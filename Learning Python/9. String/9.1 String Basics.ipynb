{
 "cells": [
  {
   "cell_type": "markdown",
   "id": "097bd9c6",
   "metadata": {},
   "source": [
    "# String\n",
    "- Strings in python are surrounded by either single quotation marks, or double quotation marks.\n",
    "    - Double quotes are convenient if your string contains a single quote character (e.g. representing an apostrophe).\n",
    "    - Similarly, it's easy to create a string that contains double-quotes if you wrap it in single quotes"
   ]
  },
  {
   "cell_type": "code",
   "execution_count": 1,
   "id": "e68f6371",
   "metadata": {},
   "outputs": [
    {
     "name": "stdout",
     "output_type": "stream",
     "text": [
      "Pluto's a planet!\n",
      "My dog is named \"Pluto\"\n"
     ]
    }
   ],
   "source": [
    "print(\"Pluto's a planet!\")\n",
    "print('My dog is named \"Pluto\"')"
   ]
  },
  {
   "cell_type": "markdown",
   "id": "00fadcb5",
   "metadata": {},
   "source": [
    "### Multiline String\n",
    "#### Newline character\n",
    "\\n, represents the newline character. It causes Python to start a new line. Hence we can create multiline string"
   ]
  },
  {
   "cell_type": "code",
   "execution_count": 2,
   "id": "b7fa3c51",
   "metadata": {},
   "outputs": [
    {
     "name": "stdout",
     "output_type": "stream",
     "text": [
      "hello\n",
      "world\n"
     ]
    }
   ],
   "source": [
    "hello = \"hello\\nworld\"\n",
    "print(hello)"
   ]
  },
  {
   "cell_type": "markdown",
   "id": "e68b1aa7",
   "metadata": {},
   "source": [
    "#### triple quote syntax \n",
    "Python's triple quote syntax for strings lets us include newlines literally (i.e. by just hitting 'Enter' on our keyboard, rather than using the special '\\n' sequence). We've already seen this in the docstrings we use to document our functions, but we can use them anywhere we want to define a string."
   ]
  },
  {
   "cell_type": "code",
   "execution_count": 3,
   "id": "12f6f488",
   "metadata": {},
   "outputs": [
    {
     "name": "stdout",
     "output_type": "stream",
     "text": [
      "hello\n",
      "world\n"
     ]
    },
    {
     "data": {
      "text/plain": [
       "True"
      ]
     },
     "execution_count": 3,
     "metadata": {},
     "output_type": "execute_result"
    }
   ],
   "source": [
    "triplequoted_hello = \"\"\"hello\n",
    "world\"\"\"\n",
    "print(triplequoted_hello)\n",
    "triplequoted_hello == hello"
   ]
  },
  {
   "cell_type": "markdown",
   "id": "2d2840e1",
   "metadata": {},
   "source": [
    "#### end argument in print\n",
    "The print() function automatically adds a newline character unless we specify a value for the keyword argument end other than the default value of '\\n'"
   ]
  },
  {
   "cell_type": "code",
   "execution_count": 6,
   "id": "9cf30113",
   "metadata": {},
   "outputs": [
    {
     "name": "stdout",
     "output_type": "stream",
     "text": [
      "hello\n",
      "world\n",
      "hello\n",
      "pluto Marstisha\n"
     ]
    }
   ],
   "source": [
    "print(\"hello\")\n",
    "print(\"world\")\n",
    "print(\"hello\", end='\\n')\n",
    "print(\"pluto\", end=' ')\n",
    "print(\"Mars\", end='')\n",
    "print(\"tisha\")"
   ]
  }
 ],
 "metadata": {
  "kernelspec": {
   "display_name": "Python 3 (ipykernel)",
   "language": "python",
   "name": "python3"
  },
  "language_info": {
   "codemirror_mode": {
    "name": "ipython",
    "version": 3
   },
   "file_extension": ".py",
   "mimetype": "text/x-python",
   "name": "python",
   "nbconvert_exporter": "python",
   "pygments_lexer": "ipython3",
   "version": "3.9.13"
  }
 },
 "nbformat": 4,
 "nbformat_minor": 5
}
