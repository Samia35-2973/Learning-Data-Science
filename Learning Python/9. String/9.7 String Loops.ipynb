{
 "cells": [
  {
   "cell_type": "markdown",
   "id": "c72f76e3",
   "metadata": {},
   "source": [
    "## Loops\n",
    "### Loop through String\n",
    "You can loop through the String characters by using a for loop"
   ]
  },
  {
   "cell_type": "code",
   "execution_count": 1,
   "id": "1fe3f9c4",
   "metadata": {},
   "outputs": [
    {
     "name": "stdout",
     "output_type": "stream",
     "text": [
      "p l u t o "
     ]
    }
   ],
   "source": [
    "planets = \"pluto\"\n",
    "for planet in planets:\n",
    "    print(planet, end=' ') # print all on same line"
   ]
  }
 ],
 "metadata": {
  "kernelspec": {
   "display_name": "Python 3 (ipykernel)",
   "language": "python",
   "name": "python3"
  },
  "language_info": {
   "codemirror_mode": {
    "name": "ipython",
    "version": 3
   },
   "file_extension": ".py",
   "mimetype": "text/x-python",
   "name": "python",
   "nbconvert_exporter": "python",
   "pygments_lexer": "ipython3",
   "version": "3.9.13"
  }
 },
 "nbformat": 4,
 "nbformat_minor": 5
}
