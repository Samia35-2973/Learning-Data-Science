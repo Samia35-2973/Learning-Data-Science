{
 "cells": [
  {
   "cell_type": "markdown",
   "id": "411343d8",
   "metadata": {},
   "source": [
    "# Access\n",
    "\n",
    "## String are Arrays\n",
    "strings in Python are arrays of bytes representing unicode characters. However, Python does not have a character data type, a single character is simply a string with a length of 1. Square brackets can be used to access elements of the string."
   ]
  },
  {
   "cell_type": "markdown",
   "id": "fd237352",
   "metadata": {},
   "source": [
    "### Access by Index\n",
    "you can access them by referring to the index number\n",
    "\n",
    "#### Positive Indexing\n",
    "Starts from 0....goes forward"
   ]
  },
  {
   "cell_type": "code",
   "execution_count": 1,
   "id": "66838059",
   "metadata": {},
   "outputs": [
    {
     "name": "stdout",
     "output_type": "stream",
     "text": [
      "e\n"
     ]
    }
   ],
   "source": [
    "a = \"Hello, World!\"\n",
    "print(a[1])"
   ]
  },
  {
   "cell_type": "markdown",
   "id": "b91d8eef",
   "metadata": {},
   "source": [
    "#### Negative Indexing\n",
    "Negative indexing means start from the end and goes backward. Index starts from -1"
   ]
  },
  {
   "cell_type": "code",
   "execution_count": 2,
   "id": "fbd163af",
   "metadata": {},
   "outputs": [
    {
     "name": "stdout",
     "output_type": "stream",
     "text": [
      "!\n"
     ]
    }
   ],
   "source": [
    "a = \"Hello, World!\"\n",
    "print(a[-1])"
   ]
  },
  {
   "cell_type": "markdown",
   "id": "8ce8f8a7",
   "metadata": {},
   "source": [
    "### Slicing\n",
    "You can specify a range of indexes by specifying where to start and where to end the range."
   ]
  },
  {
   "cell_type": "markdown",
   "id": "cc7150a2",
   "metadata": {},
   "source": [
    "#### string[x,y]\n",
    "Slicing b[x:y] here x:y means a substring from x to y index. but here the substring is taken from x to y-1 always"
   ]
  },
  {
   "cell_type": "code",
   "execution_count": 3,
   "id": "b205495e",
   "metadata": {},
   "outputs": [
    {
     "name": "stdout",
     "output_type": "stream",
     "text": [
      "llo\n"
     ]
    }
   ],
   "source": [
    "b = \"Hello, World!\"\n",
    "print(b[2:5])"
   ]
  },
  {
   "cell_type": "markdown",
   "id": "85cb6c03",
   "metadata": {},
   "source": [
    "#### string[:y]\n",
    "Slicing b[:y] here :y means a substring from start to y-1 index"
   ]
  },
  {
   "cell_type": "code",
   "execution_count": 4,
   "id": "e41ab242",
   "metadata": {},
   "outputs": [
    {
     "name": "stdout",
     "output_type": "stream",
     "text": [
      "Hello\n"
     ]
    }
   ],
   "source": [
    "b = \"Hello, World!\"\n",
    "print(b[:5])"
   ]
  },
  {
   "cell_type": "markdown",
   "id": "77541ead",
   "metadata": {},
   "source": [
    "#### string[x:]\n",
    "slicing b[x:] here x: means a substring from x to end index"
   ]
  },
  {
   "cell_type": "code",
   "execution_count": 5,
   "id": "2bc7913d",
   "metadata": {},
   "outputs": [
    {
     "name": "stdout",
     "output_type": "stream",
     "text": [
      "llo, World!\n"
     ]
    }
   ],
   "source": [
    "b = \"Hello, World!\"\n",
    "print(b[2:])"
   ]
  },
  {
   "cell_type": "markdown",
   "id": "6049166b",
   "metadata": {},
   "source": [
    "#### string[-x, -y]\n",
    "Specify negative indexes if you want to start the search from the end of the string. -x is the starting and ending is -y-1"
   ]
  },
  {
   "cell_type": "code",
   "execution_count": 6,
   "id": "b4b31455",
   "metadata": {},
   "outputs": [
    {
     "name": "stdout",
     "output_type": "stream",
     "text": [
      "orl\n"
     ]
    }
   ],
   "source": [
    "b = \"Hello, World!\"\n",
    "print(b[-5:-2])"
   ]
  },
  {
   "cell_type": "markdown",
   "id": "df82012f",
   "metadata": {},
   "source": [
    "### Check if certain phrase or character is present in a string\n",
    "To check if a certain phrase or character is present in a string, we can use the keyword in."
   ]
  },
  {
   "cell_type": "code",
   "execution_count": 7,
   "id": "f4350647",
   "metadata": {},
   "outputs": [
    {
     "name": "stdout",
     "output_type": "stream",
     "text": [
      "True\n"
     ]
    }
   ],
   "source": [
    "txt = \"The best things in life are free!\"\n",
    "print(\"free\" in txt)"
   ]
  },
  {
   "cell_type": "markdown",
   "id": "2338794e",
   "metadata": {},
   "source": [
    "### Check if certain phrase or character is not present in a string\n",
    "To check if a certain phrase or character is not present in a string, we can use the keyword not in."
   ]
  },
  {
   "cell_type": "code",
   "execution_count": 8,
   "id": "29f6c095",
   "metadata": {},
   "outputs": [
    {
     "name": "stdout",
     "output_type": "stream",
     "text": [
      "True\n"
     ]
    }
   ],
   "source": [
    "txt = \"The best things in life are free!\"\n",
    "print(\"expensive\" not in txt)"
   ]
  },
  {
   "cell_type": "markdown",
   "id": "c8b2a8ff",
   "metadata": {},
   "source": [
    "### Unpacking characters\n",
    "from a string, we can unpack characters to different variables. If unknown the amount we can put * before the variable and it will become a list"
   ]
  },
  {
   "cell_type": "code",
   "execution_count": 11,
   "id": "70942618",
   "metadata": {},
   "outputs": [
    {
     "name": "stdout",
     "output_type": "stream",
     "text": [
      "H\n",
      "['e', 'l', 'l', 'o', ',', ' ', 'W', 'o', 'r', 'l', 'd']\n",
      "!\n"
     ]
    }
   ],
   "source": [
    "s = \"Hello, World!\"\n",
    "a, *b, c = s\n",
    "print(a)\n",
    "print(b)\n",
    "print(c)"
   ]
  },
  {
   "cell_type": "markdown",
   "id": "7243cce7",
   "metadata": {},
   "source": [
    "### Searching first index of substring"
   ]
  },
  {
   "cell_type": "code",
   "execution_count": 12,
   "id": "b39de514",
   "metadata": {},
   "outputs": [
    {
     "data": {
      "text/plain": [
       "7"
      ]
     },
     "execution_count": 12,
     "metadata": {},
     "output_type": "execute_result"
    }
   ],
   "source": [
    "s.index('World')"
   ]
  },
  {
   "cell_type": "markdown",
   "id": "cf247ce4",
   "metadata": {},
   "source": [
    "**Note:** if the item doesn't exist at all it will produce error. Hence use in operator always"
   ]
  },
  {
   "cell_type": "markdown",
   "id": "07598a06",
   "metadata": {},
   "source": [
    "### check if a string starts with substring"
   ]
  },
  {
   "cell_type": "code",
   "execution_count": 14,
   "id": "4a382778",
   "metadata": {},
   "outputs": [
    {
     "data": {
      "text/plain": [
       "True"
      ]
     },
     "execution_count": 14,
     "metadata": {},
     "output_type": "execute_result"
    }
   ],
   "source": [
    "s.startswith(\"Hello\")"
   ]
  },
  {
   "cell_type": "markdown",
   "id": "0c091be9",
   "metadata": {},
   "source": [
    "### check if a string ends with substring"
   ]
  },
  {
   "cell_type": "code",
   "execution_count": 15,
   "id": "4dbf1020",
   "metadata": {},
   "outputs": [
    {
     "data": {
      "text/plain": [
       "False"
      ]
     },
     "execution_count": 15,
     "metadata": {},
     "output_type": "execute_result"
    }
   ],
   "source": [
    "s.endswith(\"Hello\")"
   ]
  }
 ],
 "metadata": {
  "kernelspec": {
   "display_name": "Python 3 (ipykernel)",
   "language": "python",
   "name": "python3"
  },
  "language_info": {
   "codemirror_mode": {
    "name": "ipython",
    "version": 3
   },
   "file_extension": ".py",
   "mimetype": "text/x-python",
   "name": "python",
   "nbconvert_exporter": "python",
   "pygments_lexer": "ipython3",
   "version": "3.9.13"
  }
 },
 "nbformat": 4,
 "nbformat_minor": 5
}
