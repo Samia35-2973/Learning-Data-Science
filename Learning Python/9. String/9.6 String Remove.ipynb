{
 "cells": [
  {
   "cell_type": "markdown",
   "id": "b910ad8e",
   "metadata": {},
   "source": [
    "## Remove\n",
    "### Remove by replacing\n",
    "You can use the str.replace() method to replace occurrences of a substring with an empty string to effectively remove it."
   ]
  },
  {
   "cell_type": "code",
   "execution_count": 1,
   "id": "c7525869",
   "metadata": {},
   "outputs": [
    {
     "name": "stdout",
     "output_type": "stream",
     "text": [
      "Hello, !\n"
     ]
    }
   ],
   "source": [
    "original_string = \"Hello, World!\"\n",
    "substring_to_remove = \"World\"\n",
    "new_string = original_string.replace(substring_to_remove, \"\")\n",
    "print(new_string)  # Output: \"Hello, !\""
   ]
  },
  {
   "cell_type": "markdown",
   "id": "008680fa",
   "metadata": {},
   "source": [
    "### Remove using slice\n",
    "You can use slicing to create a new string that excludes the substring you want to remove."
   ]
  },
  {
   "cell_type": "code",
   "execution_count": 2,
   "id": "9b39bef8",
   "metadata": {},
   "outputs": [
    {
     "name": "stdout",
     "output_type": "stream",
     "text": [
      "Hello, !\n"
     ]
    }
   ],
   "source": [
    "original_string = \"Hello, World!\"\n",
    "start_index = original_string.find(\"World\")\n",
    "if start_index != -1:\n",
    "    end_index = start_index + len(\"World\")\n",
    "    new_string = original_string[:start_index] + original_string[end_index:]\n",
    "    print(new_string)  # Output: \"Hello, !\""
   ]
  },
  {
   "cell_type": "markdown",
   "id": "17855109",
   "metadata": {},
   "source": [
    "### Del\n",
    "The del keyword can also delete the string completely."
   ]
  },
  {
   "cell_type": "code",
   "execution_count": 3,
   "id": "8656e3b8",
   "metadata": {},
   "outputs": [],
   "source": [
    "s = \"hello\"\n",
    "del s"
   ]
  }
 ],
 "metadata": {
  "kernelspec": {
   "display_name": "Python 3 (ipykernel)",
   "language": "python",
   "name": "python3"
  },
  "language_info": {
   "codemirror_mode": {
    "name": "ipython",
    "version": 3
   },
   "file_extension": ".py",
   "mimetype": "text/x-python",
   "name": "python",
   "nbconvert_exporter": "python",
   "pygments_lexer": "ipython3",
   "version": "3.9.13"
  }
 },
 "nbformat": 4,
 "nbformat_minor": 5
}
