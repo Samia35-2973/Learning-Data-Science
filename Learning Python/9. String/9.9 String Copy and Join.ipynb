{
 "cells": [
  {
   "cell_type": "markdown",
   "id": "6daadd1c",
   "metadata": {},
   "source": [
    "## Copy\n",
    "### Assigning a string to another string\n",
    "You can copy a string simply by typing string2 = string1"
   ]
  },
  {
   "cell_type": "code",
   "execution_count": 2,
   "id": "0472bb08",
   "metadata": {},
   "outputs": [
    {
     "name": "stdout",
     "output_type": "stream",
     "text": [
      "Hello\n",
      "Hellohi\n",
      "Hello\n"
     ]
    }
   ],
   "source": [
    "s = \"Hello\"\n",
    "ms = s\n",
    "print(s)\n",
    "\n",
    "# Now if we change thislist\n",
    "s = s + \"hi\"\n",
    "print(ms)"
   ]
  },
  {
   "cell_type": "markdown",
   "id": "a8c55a04",
   "metadata": {},
   "source": [
    "## Join\n",
    "str.join() takes us in the other direction, sewing a list of strings up into one long string, using the string it was called on as a separator."
   ]
  },
  {
   "cell_type": "code",
   "execution_count": 6,
   "id": "5fc083ee",
   "metadata": {},
   "outputs": [
    {
     "data": {
      "text/plain": [
       "'01/23/2002'"
      ]
     },
     "execution_count": 6,
     "metadata": {},
     "output_type": "execute_result"
    }
   ],
   "source": [
    "'/'.join(['01', '23', '2002'])"
   ]
  },
  {
   "cell_type": "markdown",
   "id": "ab1a9f94",
   "metadata": {},
   "source": [
    "#### Put in for each"
   ]
  },
  {
   "cell_type": "code",
   "execution_count": 9,
   "id": "302e2efb",
   "metadata": {},
   "outputs": [
    {
     "data": {
      "text/plain": [
       "'PLUTO 👏 IS 👏 A 👏 PLANET!'"
      ]
     },
     "execution_count": 9,
     "metadata": {},
     "output_type": "execute_result"
    }
   ],
   "source": [
    "claim = \"Pluto is a planet!\"\n",
    "words = claim.split()\n",
    "words\n",
    "# Yes, we can put unicode characters right in our string literals :)\n",
    "' 👏 '.join([word.upper() for word in words])"
   ]
  }
 ],
 "metadata": {
  "kernelspec": {
   "display_name": "Python 3 (ipykernel)",
   "language": "python",
   "name": "python3"
  },
  "language_info": {
   "codemirror_mode": {
    "name": "ipython",
    "version": 3
   },
   "file_extension": ".py",
   "mimetype": "text/x-python",
   "name": "python",
   "nbconvert_exporter": "python",
   "pygments_lexer": "ipython3",
   "version": "3.9.13"
  }
 },
 "nbformat": 4,
 "nbformat_minor": 5
}
