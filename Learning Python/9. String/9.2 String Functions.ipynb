{
 "cells": [
  {
   "cell_type": "markdown",
   "id": "aa65c622",
   "metadata": {},
   "source": [
    "# String Functions\n",
    "### Length\n",
    "To determine how many characters a string has, use the len() function"
   ]
  },
  {
   "cell_type": "code",
   "execution_count": 1,
   "id": "652c8b4f",
   "metadata": {},
   "outputs": [
    {
     "name": "stdout",
     "output_type": "stream",
     "text": [
      "13\n"
     ]
    }
   ],
   "source": [
    "a = \"Hello, World!\"\n",
    "print(len(a))"
   ]
  },
  {
   "cell_type": "markdown",
   "id": "e75acdda",
   "metadata": {},
   "source": [
    "### Sorted\n",
    "sorted returns a sorted version of a string"
   ]
  },
  {
   "cell_type": "code",
   "execution_count": 2,
   "id": "5a3bc217",
   "metadata": {},
   "outputs": [
    {
     "data": {
      "text/plain": [
       "[' ', '!', ',', 'H', 'W', 'd', 'e', 'l', 'l', 'l', 'o', 'o', 'r']"
      ]
     },
     "execution_count": 2,
     "metadata": {},
     "output_type": "execute_result"
    }
   ],
   "source": [
    "# The planets sorted in alphabetical order\n",
    "sorted(a)"
   ]
  },
  {
   "cell_type": "markdown",
   "id": "cb1fe25b",
   "metadata": {},
   "source": [
    "### Min and Max\n",
    "We've previously used the min and max to get the minimum or maximum of several arguments."
   ]
  },
  {
   "cell_type": "code",
   "execution_count": 3,
   "id": "21534ba8",
   "metadata": {},
   "outputs": [
    {
     "name": "stdout",
     "output_type": "stream",
     "text": [
      "r\n",
      " \n"
     ]
    }
   ],
   "source": [
    "print(max(a))\n",
    "print(min(a))"
   ]
  },
  {
   "cell_type": "markdown",
   "id": "479bb10e",
   "metadata": {},
   "source": [
    "### upper()\n",
    "returns the string in upper case"
   ]
  },
  {
   "cell_type": "code",
   "execution_count": 4,
   "id": "59f811db",
   "metadata": {},
   "outputs": [
    {
     "data": {
      "text/plain": [
       "'PLUTO IS A PLANET!'"
      ]
     },
     "execution_count": 4,
     "metadata": {},
     "output_type": "execute_result"
    }
   ],
   "source": [
    "# ALL CAPS\n",
    "claim = \"Pluto is a planet!\"\n",
    "claim.upper()"
   ]
  },
  {
   "cell_type": "markdown",
   "id": "f312b2a3",
   "metadata": {},
   "source": [
    "### lower()\n",
    "returns the string in lower case"
   ]
  },
  {
   "cell_type": "code",
   "execution_count": 5,
   "id": "aa468159",
   "metadata": {},
   "outputs": [
    {
     "data": {
      "text/plain": [
       "'pluto is a planet!'"
      ]
     },
     "execution_count": 5,
     "metadata": {},
     "output_type": "execute_result"
    }
   ],
   "source": [
    "# all lowercase\n",
    "claim.lower()"
   ]
  }
 ],
 "metadata": {
  "kernelspec": {
   "display_name": "Python 3 (ipykernel)",
   "language": "python",
   "name": "python3"
  },
  "language_info": {
   "codemirror_mode": {
    "name": "ipython",
    "version": 3
   },
   "file_extension": ".py",
   "mimetype": "text/x-python",
   "name": "python",
   "nbconvert_exporter": "python",
   "pygments_lexer": "ipython3",
   "version": "3.9.13"
  }
 },
 "nbformat": 4,
 "nbformat_minor": 5
}
