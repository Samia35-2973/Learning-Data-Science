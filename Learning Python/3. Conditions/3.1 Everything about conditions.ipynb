{
 "cells": [
  {
   "cell_type": "markdown",
   "id": "a217fcd1",
   "metadata": {},
   "source": [
    "# If_Else\n",
    "### Indetention and if \n",
    "Python relies on indentation (whitespace at the beginning of a line) to define scope in the code. Other programming languages often use curly-brackets for this purpose."
   ]
  },
  {
   "cell_type": "code",
   "execution_count": 12,
   "id": "93224d7f",
   "metadata": {},
   "outputs": [],
   "source": [
    "x = 5\n",
    "if x > 5:\n",
    "    print('ok')"
   ]
  },
  {
   "cell_type": "markdown",
   "id": "def8419f",
   "metadata": {},
   "source": [
    "### Using Comparison Operators\n",
    "We just use comparision operator with if. And for otherwise use else."
   ]
  },
  {
   "cell_type": "code",
   "execution_count": 5,
   "id": "a51ee164",
   "metadata": {},
   "outputs": [
    {
     "name": "stdout",
     "output_type": "stream",
     "text": [
      "not ok\n"
     ]
    }
   ],
   "source": [
    "x = 5\n",
    "if x > 5:\n",
    "    print('ok')\n",
    "else:\n",
    "    print('not ok')"
   ]
  },
  {
   "cell_type": "markdown",
   "id": "b65a6d18",
   "metadata": {},
   "source": [
    "### Using using logical operators for multple comparisons\n",
    "We can use necessary logical operators for multple comparisons"
   ]
  },
  {
   "cell_type": "code",
   "execution_count": 6,
   "id": "36261939",
   "metadata": {},
   "outputs": [
    {
     "name": "stdout",
     "output_type": "stream",
     "text": [
      "Fine!\n"
     ]
    }
   ],
   "source": [
    "if 'co' in 'codeforces' and 4 < 5:\n",
    "    print(\"Fine!\")\n",
    "else:\n",
    "    print(\"Nah\")"
   ]
  },
  {
   "cell_type": "markdown",
   "id": "86e0ced2",
   "metadata": {},
   "source": [
    "### If Elif Else\n",
    "if the previous conditions were not true, then try this condition"
   ]
  },
  {
   "cell_type": "code",
   "execution_count": 11,
   "id": "43f842a1",
   "metadata": {},
   "outputs": [
    {
     "name": "stdout",
     "output_type": "stream",
     "text": [
      "At least Tisha has I\n"
     ]
    }
   ],
   "source": [
    "if 'i' == 'tisha':\n",
    "    print(\"I am not tisha yet.\")\n",
    "elif 'i' in 'Tisha':\n",
    "    print('At least Tisha has I')\n",
    "elif 'i' not in 'Tisha':\n",
    "    print('Your existence is false')\n",
    "else:\n",
    "    print('You are just dumbass!')"
   ]
  },
  {
   "cell_type": "markdown",
   "id": "eb35a59e",
   "metadata": {},
   "source": [
    "### Shorthand\n",
    "#### If\n",
    "after if we can write it's outcome in single line"
   ]
  },
  {
   "cell_type": "code",
   "execution_count": 13,
   "id": "82b66c2b",
   "metadata": {},
   "outputs": [
    {
     "name": "stdout",
     "output_type": "stream",
     "text": [
      "Ok you learned your lesson\n"
     ]
    }
   ],
   "source": [
    "if 5>6: print('impossible!')\n",
    "if 5<6: print('Ok you learned your lesson')"
   ]
  },
  {
   "cell_type": "markdown",
   "id": "af997bd0",
   "metadata": {},
   "source": [
    "#### If else - Ternary Operators\n",
    "first write outcome followed by the if condition. Then write the else condition. All in single line"
   ]
  },
  {
   "cell_type": "code",
   "execution_count": 15,
   "id": "7852b5de",
   "metadata": {},
   "outputs": [
    {
     "name": "stdout",
     "output_type": "stream",
     "text": [
      "Stop showing off! You are fine perfectly!\n"
     ]
    }
   ],
   "source": [
    "print('ok I am fine') if 'samia' == 'depressed' else print('Stop showing off! You are fine perfectly!')"
   ]
  },
  {
   "cell_type": "markdown",
   "id": "1c021112",
   "metadata": {},
   "source": [
    "#### if elif else - Ternary Operators\n",
    "first write outcome followed by the if condition. Then write the else and outcome followed by the if condition....."
   ]
  },
  {
   "cell_type": "code",
   "execution_count": 16,
   "id": "88f9d8ea",
   "metadata": {},
   "outputs": [
    {
     "name": "stdout",
     "output_type": "stream",
     "text": [
      "Try Harder!\n"
     ]
    }
   ],
   "source": [
    "print('ok I am fine') if 'samia' == 'depressed' else print('Try Harder!') if 'i' in 'depression' else print('Stop showing off! You are fine perfectly!')"
   ]
  },
  {
   "cell_type": "markdown",
   "id": "0475ad6e",
   "metadata": {},
   "source": [
    "### Nested Conditions\n",
    "if we have conditions under conditions"
   ]
  },
  {
   "cell_type": "code",
   "execution_count": 18,
   "id": "0bd5f1d1",
   "metadata": {},
   "outputs": [
    {
     "name": "stdout",
     "output_type": "stream",
     "text": [
      "Above ten,\n",
      "and also above 20!\n"
     ]
    }
   ],
   "source": [
    "x = 41\n",
    "\n",
    "if x > 10:\n",
    "    print(\"Above ten,\")\n",
    "    if x > 20:\n",
    "        print(\"and also above 20!\")\n",
    "    else:\n",
    "        print(\"but not above 20.\")"
   ]
  },
  {
   "cell_type": "markdown",
   "id": "6d1a190c",
   "metadata": {},
   "source": [
    "### Pass Statement\n",
    "if statements cannot be empty, but if you for some reason have an if statement with no content, put in the pass statement to avoid getting an error."
   ]
  },
  {
   "cell_type": "code",
   "execution_count": 19,
   "id": "9f381857",
   "metadata": {},
   "outputs": [],
   "source": [
    "a = 33\n",
    "b = 200\n",
    "\n",
    "if b > a:\n",
    "    pass"
   ]
  },
  {
   "cell_type": "markdown",
   "id": "94d698ce",
   "metadata": {},
   "source": [
    "### Using XOR as condition\n",
    "if we want one thing out of two but not both - use exclusive or. See truth table for answer"
   ]
  },
  {
   "cell_type": "code",
   "execution_count": 6,
   "id": "f8d677d0",
   "metadata": {},
   "outputs": [
    {
     "name": "stdout",
     "output_type": "stream",
     "text": [
      "Customer want exactly one sauce!\n",
      "Oops choose one only\n"
     ]
    }
   ],
   "source": [
    "ketchup = True\n",
    "mustard = False\n",
    "\n",
    "if ketchup ^ mustard:\n",
    "    print(\"Customer want exactly one sauce!\")\n",
    "else:\n",
    "    print(\"Oops choose one only\")\n",
    "    \n",
    "ketchup = True\n",
    "mustard = True\n",
    "if ketchup ^ mustard:\n",
    "    print(\"Customer want exactly one sauce!\")\n",
    "else:\n",
    "    print(\"Oops choose one only\")"
   ]
  }
 ],
 "metadata": {
  "kernelspec": {
   "display_name": "Python 3 (ipykernel)",
   "language": "python",
   "name": "python3"
  },
  "language_info": {
   "codemirror_mode": {
    "name": "ipython",
    "version": 3
   },
   "file_extension": ".py",
   "mimetype": "text/x-python",
   "name": "python",
   "nbconvert_exporter": "python",
   "pygments_lexer": "ipython3",
   "version": "3.9.13"
  }
 },
 "nbformat": 4,
 "nbformat_minor": 5
}
