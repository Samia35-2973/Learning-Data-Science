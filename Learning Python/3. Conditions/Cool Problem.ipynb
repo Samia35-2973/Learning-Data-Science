{
 "cells": [
  {
   "cell_type": "markdown",
   "id": "3196f053",
   "metadata": {},
   "source": [
    "# Cool Problem on Bool, condition and int() function\n",
    "### int() on Bool\n",
    "We’ve seen that calling bool() on an integer returns False if it’s equal to 0 and True otherwise. What happens if we call int() on a bool?\n",
    "### Problem\n",
    "the customer wants exactly one of the three available toppings on their hot dog else make him go away"
   ]
  },
  {
   "cell_type": "code",
   "execution_count": 1,
   "id": "6a3ff143",
   "metadata": {},
   "outputs": [
    {
     "name": "stdout",
     "output_type": "stream",
     "text": [
      "Your order is confirmed!\n"
     ]
    }
   ],
   "source": [
    "ketchup = True\n",
    "mustard = False\n",
    "onion = False\n",
    "\n",
    "if int(ketchup) + int(mustard) + int(onion) == 1:\n",
    "    print(\"Your order is confirmed!\")\n",
    "else:\n",
    "    print(\"Go away\")"
   ]
  },
  {
   "cell_type": "markdown",
   "id": "d2aee070",
   "metadata": {},
   "source": [
    "### Fun Fact\n",
    "we don't technically need to call int on the arguments. Just by doing addition with booleans, Python implicitly does the integer conversion."
   ]
  },
  {
   "cell_type": "code",
   "execution_count": 2,
   "id": "49b67120",
   "metadata": {},
   "outputs": [
    {
     "name": "stdout",
     "output_type": "stream",
     "text": [
      "Go away\n"
     ]
    }
   ],
   "source": [
    "ketchup = True\n",
    "mustard = False\n",
    "onion = True\n",
    "\n",
    "if ketchup + mustard + onion == 1:\n",
    "    print(\"Your order is confirmed!\")\n",
    "else:\n",
    "    print(\"Go away\")"
   ]
  }
 ],
 "metadata": {
  "kernelspec": {
   "display_name": "Python 3 (ipykernel)",
   "language": "python",
   "name": "python3"
  },
  "language_info": {
   "codemirror_mode": {
    "name": "ipython",
    "version": 3
   },
   "file_extension": ".py",
   "mimetype": "text/x-python",
   "name": "python",
   "nbconvert_exporter": "python",
   "pygments_lexer": "ipython3",
   "version": "3.9.13"
  }
 },
 "nbformat": 4,
 "nbformat_minor": 5
}
