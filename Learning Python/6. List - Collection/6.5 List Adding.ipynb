{
 "cells": [
  {
   "cell_type": "markdown",
   "id": "2cdd364b",
   "metadata": {},
   "source": [
    "## Adding\n",
    "### Append\n",
    "To add an item to the end of the list, use the append() method"
   ]
  },
  {
   "cell_type": "code",
   "execution_count": 1,
   "id": "29319623",
   "metadata": {},
   "outputs": [
    {
     "name": "stdout",
     "output_type": "stream",
     "text": [
      "['apple', 'banana', 'cherry', 'orange']\n"
     ]
    }
   ],
   "source": [
    "thislist = [\"apple\", \"banana\", \"cherry\"]\n",
    "thislist.append(\"orange\")\n",
    "print(thislist)"
   ]
  },
  {
   "cell_type": "markdown",
   "id": "5295e5fd",
   "metadata": {},
   "source": [
    "### Extend\n",
    "To append elements from another list to the current list's end, use the extend() method. This works for any collections(tuple, dictionary, set) as well."
   ]
  },
  {
   "cell_type": "code",
   "execution_count": 2,
   "id": "8114aa5a",
   "metadata": {},
   "outputs": [
    {
     "name": "stdout",
     "output_type": "stream",
     "text": [
      "['apple', 'banana', 'cherry', 'mango', 'pineapple', 'papaya']\n"
     ]
    }
   ],
   "source": [
    "thislist = [\"apple\", \"banana\", \"cherry\"]\n",
    "tropical = [\"mango\", \"pineapple\", \"papaya\"]\n",
    "thislist.extend(tropical)\n",
    "print(thislist)"
   ]
  }
 ],
 "metadata": {
  "kernelspec": {
   "display_name": "Python 3 (ipykernel)",
   "language": "python",
   "name": "python3"
  },
  "language_info": {
   "codemirror_mode": {
    "name": "ipython",
    "version": 3
   },
   "file_extension": ".py",
   "mimetype": "text/x-python",
   "name": "python",
   "nbconvert_exporter": "python",
   "pygments_lexer": "ipython3",
   "version": "3.9.13"
  }
 },
 "nbformat": 4,
 "nbformat_minor": 5
}
