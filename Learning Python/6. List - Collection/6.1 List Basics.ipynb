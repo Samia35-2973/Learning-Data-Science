{
 "cells": [
  {
   "cell_type": "markdown",
   "id": "097bd9c6",
   "metadata": {},
   "source": [
    "# List\n",
    "- Lists are used to store multiple items of any type in a single variable.\n",
    "- Lists are created using square brackets and elements seperated by comma\n",
    "- List items are ordered: If you add new items to a list, the new items will be placed at the end of the list., \n",
    "- List items are changeable: change, add, and remove items in a list after it has been created.\n",
    "- List items allow duplicate values: lists can have items with the same value\n",
    "- List items are indexed starting from 0"
   ]
  },
  {
   "cell_type": "code",
   "execution_count": 1,
   "id": "e68f6371",
   "metadata": {},
   "outputs": [
    {
     "name": "stdout",
     "output_type": "stream",
     "text": [
      "['apple', 'banana', 'cherry']\n"
     ]
    }
   ],
   "source": [
    "thislist = [\"apple\", \"banana\", \"cherry\"]\n",
    "print(thislist)"
   ]
  },
  {
   "cell_type": "markdown",
   "id": "00fadcb5",
   "metadata": {},
   "source": [
    "### List of Lists"
   ]
  },
  {
   "cell_type": "code",
   "execution_count": 3,
   "id": "b7fa3c51",
   "metadata": {},
   "outputs": [
    {
     "name": "stdout",
     "output_type": "stream",
     "text": [
      "[['J', 'Q', 'K'], ['2', '2', '2'], ['6', 'A', 'K']]\n",
      "[['J', 'Q', 'K'], ['2', '2', '2'], ['6', 'A', 'K']]\n"
     ]
    }
   ],
   "source": [
    "hands = [\n",
    "    ['J', 'Q', 'K'],\n",
    "    ['2', '2', '2'],\n",
    "    ['6', 'A', 'K'], # (Comma after the last element is optional)\n",
    "]\n",
    "print(hands)\n",
    "# (I could also have written this on one line, but it can get hard to read)\n",
    "hands = [['J', 'Q', 'K'], ['2', '2', '2'], ['6', 'A', 'K']]\n",
    "print(hands)"
   ]
  },
  {
   "cell_type": "markdown",
   "id": "178dd358",
   "metadata": {},
   "source": [
    "### List Constructor\n",
    "It is also possible to use the list() constructor when creating a new list"
   ]
  },
  {
   "cell_type": "code",
   "execution_count": 6,
   "id": "ff181496",
   "metadata": {},
   "outputs": [
    {
     "name": "stdout",
     "output_type": "stream",
     "text": [
      "['apple', 'banana', 'cherry']\n"
     ]
    }
   ],
   "source": [
    "thislist = list((\"apple\", \"banana\", \"cherry\")) # note the double round-brackets\n",
    "print(thislist)"
   ]
  },
  {
   "cell_type": "markdown",
   "id": "2d2840e1",
   "metadata": {},
   "source": [
    "### Different types in One list\n",
    "can contain different type values in same list"
   ]
  },
  {
   "cell_type": "code",
   "execution_count": 1,
   "id": "9cf30113",
   "metadata": {},
   "outputs": [
    {
     "name": "stdout",
     "output_type": "stream",
     "text": [
      "['banana', 'apple', 'cherry', True, 44, 5.69]\n"
     ]
    }
   ],
   "source": [
    "s = [\"banana\", \"apple\", \"cherry\", True, 44, 5.69]\n",
    "print(s)"
   ]
  }
 ],
 "metadata": {
  "kernelspec": {
   "display_name": "Python 3 (ipykernel)",
   "language": "python",
   "name": "python3"
  },
  "language_info": {
   "codemirror_mode": {
    "name": "ipython",
    "version": 3
   },
   "file_extension": ".py",
   "mimetype": "text/x-python",
   "name": "python",
   "nbconvert_exporter": "python",
   "pygments_lexer": "ipython3",
   "version": "3.9.13"
  }
 },
 "nbformat": 4,
 "nbformat_minor": 5
}
