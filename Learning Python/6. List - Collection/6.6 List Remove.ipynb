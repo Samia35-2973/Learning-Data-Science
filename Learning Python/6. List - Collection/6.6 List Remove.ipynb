{
 "cells": [
  {
   "cell_type": "markdown",
   "id": "b910ad8e",
   "metadata": {},
   "source": [
    "## Remove\n",
    "### Remove item method\n",
    "The remove() method removes the specified item from list"
   ]
  },
  {
   "cell_type": "code",
   "execution_count": 1,
   "id": "c7525869",
   "metadata": {},
   "outputs": [
    {
     "name": "stdout",
     "output_type": "stream",
     "text": [
      "['apple', 'cherry']\n"
     ]
    }
   ],
   "source": [
    "thislist = [\"apple\", \"banana\", \"cherry\"]\n",
    "thislist.remove(\"banana\")\n",
    "print(thislist)"
   ]
  },
  {
   "cell_type": "markdown",
   "id": "a56aa017",
   "metadata": {},
   "source": [
    "#### For multple same item\n",
    "If there are more than one item with the specified value, the remove() method removes the first occurance"
   ]
  },
  {
   "cell_type": "code",
   "execution_count": 2,
   "id": "352fb587",
   "metadata": {},
   "outputs": [
    {
     "name": "stdout",
     "output_type": "stream",
     "text": [
      "['apple', 'cherry', 'banana', 'kiwi']\n"
     ]
    }
   ],
   "source": [
    "thislist = [\"apple\", \"banana\", \"cherry\", \"banana\", \"kiwi\"]\n",
    "thislist.remove(\"banana\")\n",
    "print(thislist)"
   ]
  },
  {
   "cell_type": "markdown",
   "id": "008680fa",
   "metadata": {},
   "source": [
    "### Remove specified index\n",
    "The pop() method removes the specified index."
   ]
  },
  {
   "cell_type": "code",
   "execution_count": 5,
   "id": "9b39bef8",
   "metadata": {},
   "outputs": [
    {
     "name": "stdout",
     "output_type": "stream",
     "text": [
      "['apple', 'cherry']\n"
     ]
    }
   ],
   "source": [
    "thislist = [\"apple\", \"banana\", \"cherry\"]\n",
    "thislist.pop(1)\n",
    "print(thislist)"
   ]
  },
  {
   "cell_type": "markdown",
   "id": "6b04f8d8",
   "metadata": {},
   "source": [
    "### Pop without index\n",
    "If you do not specify the index, the pop() method removes the last item."
   ]
  },
  {
   "cell_type": "code",
   "execution_count": 4,
   "id": "3cf0834b",
   "metadata": {},
   "outputs": [
    {
     "name": "stdout",
     "output_type": "stream",
     "text": [
      "['apple', 'banana']\n"
     ]
    }
   ],
   "source": [
    "thislist = [\"apple\", \"banana\", \"cherry\"]\n",
    "thislist.pop()\n",
    "print(thislist)"
   ]
  },
  {
   "cell_type": "markdown",
   "id": "e8a6b962",
   "metadata": {},
   "source": [
    "### Del\n",
    "#### Del for index\n",
    "del keyword also removes the specified index"
   ]
  },
  {
   "cell_type": "code",
   "execution_count": 6,
   "id": "a03355ce",
   "metadata": {},
   "outputs": [
    {
     "name": "stdout",
     "output_type": "stream",
     "text": [
      "['banana', 'cherry']\n"
     ]
    }
   ],
   "source": [
    "thislist = [\"apple\", \"banana\", \"cherry\"]\n",
    "del thislist[0]\n",
    "print(thislist)"
   ]
  },
  {
   "cell_type": "markdown",
   "id": "17855109",
   "metadata": {},
   "source": [
    "#### Del for deleting List\n",
    "The del keyword can also delete the list completely."
   ]
  },
  {
   "cell_type": "code",
   "execution_count": 7,
   "id": "8656e3b8",
   "metadata": {},
   "outputs": [],
   "source": [
    "thislist = [\"apple\", \"banana\", \"cherry\"]\n",
    "del thislist"
   ]
  },
  {
   "cell_type": "markdown",
   "id": "333b397d",
   "metadata": {},
   "source": [
    "### Clear\n",
    "The clear() method empties the list."
   ]
  },
  {
   "cell_type": "code",
   "execution_count": 8,
   "id": "e5b2a82b",
   "metadata": {},
   "outputs": [
    {
     "name": "stdout",
     "output_type": "stream",
     "text": [
      "[]\n"
     ]
    }
   ],
   "source": [
    "thislist = [\"apple\", \"banana\", \"cherry\"]\n",
    "thislist.clear()\n",
    "print(thislist)"
   ]
  }
 ],
 "metadata": {
  "kernelspec": {
   "display_name": "Python 3 (ipykernel)",
   "language": "python",
   "name": "python3"
  },
  "language_info": {
   "codemirror_mode": {
    "name": "ipython",
    "version": 3
   },
   "file_extension": ".py",
   "mimetype": "text/x-python",
   "name": "python",
   "nbconvert_exporter": "python",
   "pygments_lexer": "ipython3",
   "version": "3.9.13"
  }
 },
 "nbformat": 4,
 "nbformat_minor": 5
}
