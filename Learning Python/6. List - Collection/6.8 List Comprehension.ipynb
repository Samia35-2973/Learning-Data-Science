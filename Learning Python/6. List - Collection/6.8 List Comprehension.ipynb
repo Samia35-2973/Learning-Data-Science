{
 "cells": [
  {
   "cell_type": "markdown",
   "id": "7960d643",
   "metadata": {},
   "source": [
    "## List Comprehension\n",
    "List comprehension offers a shorter syntax when you want to create a new list based on the values of an existing list.\n",
    "### Looping Using List Comprehension\n",
    "**Syntax:** ```expression for item in iterable```\n",
    "The expression is the current item in the iteration, but it is also the outcome, which you can manipulate before it ends up like a list item in the new list"
   ]
  },
  {
   "cell_type": "code",
   "execution_count": 2,
   "id": "46652369",
   "metadata": {},
   "outputs": [
    {
     "name": "stdout",
     "output_type": "stream",
     "text": [
      "apple\n",
      "banana\n",
      "cherry\n"
     ]
    },
    {
     "data": {
      "text/plain": [
       "[None, None, None]"
      ]
     },
     "execution_count": 2,
     "metadata": {},
     "output_type": "execute_result"
    }
   ],
   "source": [
    "thislist = [\"apple\", \"banana\", \"cherry\"]\n",
    "[print(x) for x in thislist]"
   ]
  },
  {
   "cell_type": "markdown",
   "id": "761556ad",
   "metadata": {},
   "source": [
    "**Note:** However, list comprehensions in Python are designed to create a new list by applying an expression to each element of the input iterable (thislist in this case). In this case, the expression is print(x).\n",
    "\n",
    "The print() function in Python returns None after printing the value. Since the list comprehension is collecting the results of print(x) for each element, it creates a new list with None values, one for each element in thislist."
   ]
  },
  {
   "cell_type": "markdown",
   "id": "d2637e7f",
   "metadata": {},
   "source": [
    "### Condition Filter\n",
    "The condition is like a filter that only accepts the items that valuate to True.\n",
    "**Syntax:** ```newList = [expression for item in iterable if condition == True]```"
   ]
  },
  {
   "cell_type": "code",
   "execution_count": 3,
   "id": "6b04d1d2",
   "metadata": {},
   "outputs": [
    {
     "name": "stdout",
     "output_type": "stream",
     "text": [
      "['apple', 'banana', 'mango']\n"
     ]
    }
   ],
   "source": [
    "fruits = [\"apple\", \"banana\", \"cherry\", \"kiwi\", \"mango\"]\n",
    "\n",
    "newlist = [x for x in fruits if \"a\" in x]\n",
    "\n",
    "print(newlist)"
   ]
  },
  {
   "cell_type": "markdown",
   "id": "deff6b4a",
   "metadata": {},
   "source": [
    "### Expression with Condition\n",
    "The expression can also contain conditions, not like a filter, but as a way to manipulate the outcome"
   ]
  },
  {
   "cell_type": "code",
   "execution_count": 4,
   "id": "9c030750",
   "metadata": {},
   "outputs": [
    {
     "name": "stdout",
     "output_type": "stream",
     "text": [
      "['apple', 'orange', 'cherry', 'kiwi', 'mango']\n"
     ]
    }
   ],
   "source": [
    "newlist = [x if x != \"banana\" else \"orange\" for x in fruits]\n",
    "print(newlist)"
   ]
  },
  {
   "cell_type": "markdown",
   "id": "fb25048d",
   "metadata": {},
   "source": [
    "### Proper Structuring\n",
    "People usually write these on a single line, but you might find the structure clearer when it's split up over 3 lines"
   ]
  },
  {
   "cell_type": "code",
   "execution_count": 5,
   "id": "a69ea568",
   "metadata": {},
   "outputs": [
    {
     "data": {
      "text/plain": [
       "['APPLE!', 'KIWI!', 'MANGO!']"
      ]
     },
     "execution_count": 5,
     "metadata": {},
     "output_type": "execute_result"
    }
   ],
   "source": [
    "[\n",
    "    fruit.upper() + '!' \n",
    "    for fruit in fruits \n",
    "    if len(fruit) < 6\n",
    "]"
   ]
  },
  {
   "cell_type": "markdown",
   "id": "5422d815",
   "metadata": {},
   "source": [
    "**Note:**\n",
    "\n",
    "but it's worth keeping in mind the following lines from The Zen of Python:\n",
    "\n",
    "- Readability counts.\n",
    "- Explicit is better than implicit.\n",
    "\n",
    "So, use these tools to make compact readable programs. But when you have to choose, favor code that is easy for others to understand."
   ]
  }
 ],
 "metadata": {
  "kernelspec": {
   "display_name": "Python 3 (ipykernel)",
   "language": "python",
   "name": "python3"
  },
  "language_info": {
   "codemirror_mode": {
    "name": "ipython",
    "version": 3
   },
   "file_extension": ".py",
   "mimetype": "text/x-python",
   "name": "python",
   "nbconvert_exporter": "python",
   "pygments_lexer": "ipython3",
   "version": "3.9.13"
  }
 },
 "nbformat": 4,
 "nbformat_minor": 5
}
