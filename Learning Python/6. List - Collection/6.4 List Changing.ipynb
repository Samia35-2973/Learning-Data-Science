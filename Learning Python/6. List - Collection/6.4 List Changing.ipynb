{
 "cells": [
  {
   "cell_type": "markdown",
   "id": "f0ef2e24",
   "metadata": {},
   "source": [
    "## Changing\n",
    "Lists are \"mutable\", meaning they can be modified \"in place\"."
   ]
  },
  {
   "cell_type": "markdown",
   "id": "b86e686f",
   "metadata": {},
   "source": [
    "### Assign to index\n",
    "To change the value of a specific item, refer to the index number"
   ]
  },
  {
   "cell_type": "code",
   "execution_count": 3,
   "id": "b0a199ec",
   "metadata": {},
   "outputs": [
    {
     "name": "stdout",
     "output_type": "stream",
     "text": [
      "['apple', 'blackcurrant', 'cherry']\n"
     ]
    }
   ],
   "source": [
    "thislist = [\"apple\", \"banana\", \"cherry\"]\n",
    "thislist[1] = \"blackcurrant\"\n",
    "print(thislist)"
   ]
  },
  {
   "cell_type": "markdown",
   "id": "1728d0c4",
   "metadata": {},
   "source": [
    "### Assigning to range of index\n",
    "To change the value of items within a specific range, define a list with the new values, and refer to the range of index numbers where you want to insert the new values"
   ]
  },
  {
   "cell_type": "code",
   "execution_count": 2,
   "id": "dcc1ca20",
   "metadata": {},
   "outputs": [
    {
     "name": "stdout",
     "output_type": "stream",
     "text": [
      "['apple', 'blackcurrant', 'watermelon', 'orange', 'kiwi', 'mango']\n"
     ]
    }
   ],
   "source": [
    "thislist = [\"apple\", \"banana\", \"cherry\", \"orange\", \"kiwi\", \"mango\"]\n",
    "thislist[1:3] = [\"blackcurrant\", \"watermelon\"]\n",
    "print(thislist)"
   ]
  },
  {
   "cell_type": "markdown",
   "id": "0b9fe760",
   "metadata": {},
   "source": [
    "### Changing more than specific range\n",
    "If we change less than the specified range, the range will be just the changed value and rest of the values"
   ]
  },
  {
   "cell_type": "code",
   "execution_count": 4,
   "id": "48a063ab",
   "metadata": {},
   "outputs": [
    {
     "name": "stdout",
     "output_type": "stream",
     "text": [
      "['apple', 'blackcurrant', 'watermelon', 'cherry']\n"
     ]
    }
   ],
   "source": [
    "thislist = [\"apple\", \"banana\", \"cherry\"]\n",
    "thislist[1:2] = [\"blackcurrant\", \"watermelon\"]\n",
    "print(thislist)"
   ]
  },
  {
   "cell_type": "markdown",
   "id": "1b2e6aaf",
   "metadata": {},
   "source": [
    "### Changing less than specific range\n",
    "the new items will be inserted where you specified, and the remaining items will move accordingly"
   ]
  },
  {
   "cell_type": "code",
   "execution_count": 5,
   "id": "26f68a15",
   "metadata": {},
   "outputs": [
    {
     "name": "stdout",
     "output_type": "stream",
     "text": [
      "['apple', 'watermelon']\n"
     ]
    }
   ],
   "source": [
    "thislist = [\"apple\", \"banana\", \"cherry\"]\n",
    "thislist[1:3] = [\"watermelon\"]\n",
    "print(thislist)"
   ]
  },
  {
   "cell_type": "markdown",
   "id": "1f013d12",
   "metadata": {},
   "source": [
    "### Inserting in specifc index\n",
    "To insert a new list item, without replacing any of the existing values, we can use the insert() method"
   ]
  },
  {
   "cell_type": "code",
   "execution_count": 6,
   "id": "5dfb81fb",
   "metadata": {},
   "outputs": [
    {
     "name": "stdout",
     "output_type": "stream",
     "text": [
      "['apple', 'banana', 'watermelon', 'cherry']\n"
     ]
    }
   ],
   "source": [
    "thislist = [\"apple\", \"banana\", \"cherry\"]\n",
    "thislist.insert(2, \"watermelon\")\n",
    "print(thislist)"
   ]
  }
 ],
 "metadata": {
  "kernelspec": {
   "display_name": "Python 3 (ipykernel)",
   "language": "python",
   "name": "python3"
  },
  "language_info": {
   "codemirror_mode": {
    "name": "ipython",
    "version": 3
   },
   "file_extension": ".py",
   "mimetype": "text/x-python",
   "name": "python",
   "nbconvert_exporter": "python",
   "pygments_lexer": "ipython3",
   "version": "3.9.13"
  }
 },
 "nbformat": 4,
 "nbformat_minor": 5
}
