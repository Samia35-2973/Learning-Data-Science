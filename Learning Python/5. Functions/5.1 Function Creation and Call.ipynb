{
 "cells": [
  {
   "cell_type": "markdown",
   "id": "cf86e964",
   "metadata": {},
   "source": [
    "## Functions\n",
    "### Creating Function\n",
    "- A function is defined using the def keyword\n",
    "- it can have arguments and no arguments\n",
    "- Some function returns something, some don't\n",
    "\n",
    "#### Function without returning"
   ]
  },
  {
   "cell_type": "code",
   "execution_count": 1,
   "id": "df48d46a",
   "metadata": {},
   "outputs": [],
   "source": [
    "def my_function():\n",
    "  print(\"Hello from a function\")"
   ]
  },
  {
   "cell_type": "markdown",
   "id": "c7302ce6",
   "metadata": {},
   "source": [
    "#### Function with return value"
   ]
  },
  {
   "cell_type": "code",
   "execution_count": 2,
   "id": "6156be0d",
   "metadata": {},
   "outputs": [],
   "source": [
    "def my_another_function():\n",
    "    return \"I am Tisha\""
   ]
  },
  {
   "cell_type": "markdown",
   "id": "5da1acc7",
   "metadata": {},
   "source": [
    "### Calling Function\n",
    "to call the function we have to write the name along with braces and parameters"
   ]
  },
  {
   "cell_type": "code",
   "execution_count": 3,
   "id": "62543c11",
   "metadata": {},
   "outputs": [
    {
     "name": "stdout",
     "output_type": "stream",
     "text": [
      "Hello from a function\n",
      "I am Tisha\n"
     ]
    }
   ],
   "source": [
    "# Since it has a print so simple call would do.\n",
    "my_function()\n",
    "\n",
    "# Since it's returning a value, we have to store in a variable if we don't want it to lose or just print\n",
    "print(my_another_function())"
   ]
  },
  {
   "cell_type": "markdown",
   "id": "b50c7dd7",
   "metadata": {},
   "source": [
    "### Functions that don't return\n",
    "The result of calling them is the special value None. (This is similar to the concept of \"null\" in other languages.)"
   ]
  },
  {
   "cell_type": "code",
   "execution_count": 1,
   "id": "b759d9fc",
   "metadata": {},
   "outputs": [
    {
     "name": "stdout",
     "output_type": "stream",
     "text": [
      "None None None\n",
      "\n",
      "None\n"
     ]
    }
   ],
   "source": [
    "def least_difference(a, b, c):\n",
    "    \"\"\"Return the smallest difference between any two numbers\n",
    "    among a, b and c.\n",
    "    \"\"\"\n",
    "    diff1 = abs(a - b)\n",
    "    diff2 = abs(b - c)\n",
    "    diff3 = abs(a - c)\n",
    "    min(diff1, diff2, diff3)\n",
    "    \n",
    "print(\n",
    "    least_difference(1, 10, 100),\n",
    "    least_difference(1, 10, 10),\n",
    "    least_difference(5, 6, 7),\n",
    ")\n",
    "mystery = print()\n",
    "print(mystery)"
   ]
  }
 ],
 "metadata": {
  "kernelspec": {
   "display_name": "Python 3 (ipykernel)",
   "language": "python",
   "name": "python3"
  },
  "language_info": {
   "codemirror_mode": {
    "name": "ipython",
    "version": 3
   },
   "file_extension": ".py",
   "mimetype": "text/x-python",
   "name": "python",
   "nbconvert_exporter": "python",
   "pygments_lexer": "ipython3",
   "version": "3.9.13"
  }
 },
 "nbformat": 4,
 "nbformat_minor": 5
}
