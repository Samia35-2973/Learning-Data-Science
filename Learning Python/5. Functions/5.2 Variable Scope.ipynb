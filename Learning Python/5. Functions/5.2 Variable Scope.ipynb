{
 "cells": [
  {
   "cell_type": "markdown",
   "id": "9b63eb29",
   "metadata": {},
   "source": [
    "## Variable Scope\n",
    "\n",
    "### Local Scope\n",
    "Variables defined inside a function have a local scope of that function only. It can be accessed anywhere in that function "
   ]
  },
  {
   "cell_type": "code",
   "execution_count": 4,
   "id": "b870c1ac",
   "metadata": {},
   "outputs": [
    {
     "name": "stdout",
     "output_type": "stream",
     "text": [
      "10\n"
     ]
    }
   ],
   "source": [
    "def fun1():\n",
    "    a = 5\n",
    "    a += 5\n",
    "    print(a)\n",
    "    \n",
    "fun1()"
   ]
  },
  {
   "cell_type": "markdown",
   "id": "b5a209f8",
   "metadata": {},
   "source": [
    "### Global Scope\n",
    "Variables defined outside all functions (like pay_parttime) have a global scope and can be accessed anywhere."
   ]
  },
  {
   "cell_type": "code",
   "execution_count": 6,
   "id": "7a17b5b2",
   "metadata": {},
   "outputs": [
    {
     "name": "stdout",
     "output_type": "stream",
     "text": [
      "6\n",
      "6\n"
     ]
    }
   ],
   "source": [
    "a = 6\n",
    "def fun2():\n",
    "    a = 7\n",
    "    \n",
    "# a will be 6, as it's global value is 6.\n",
    "print(a)"
   ]
  },
  {
   "cell_type": "markdown",
   "id": "f3d3ca29",
   "metadata": {},
   "source": [
    "### Accesssing local scope\n",
    "Variables defined inside the function body cannot be accessed outside of the function."
   ]
  },
  {
   "cell_type": "code",
   "execution_count": 1,
   "id": "feccbf11",
   "metadata": {},
   "outputs": [
    {
     "ename": "NameError",
     "evalue": "name 'a' is not defined",
     "output_type": "error",
     "traceback": [
      "\u001b[0;31m---------------------------------------------------------------------------\u001b[0m",
      "\u001b[0;31mNameError\u001b[0m                                 Traceback (most recent call last)",
      "\u001b[0;32m/tmp/ipykernel_6519/2828364429.py\u001b[0m in \u001b[0;36m<module>\u001b[0;34m\u001b[0m\n\u001b[1;32m      3\u001b[0m     \u001b[0;32mreturn\u001b[0m \u001b[0ma\u001b[0m\u001b[0;34m\u001b[0m\u001b[0;34m\u001b[0m\u001b[0m\n\u001b[1;32m      4\u001b[0m \u001b[0;34m\u001b[0m\u001b[0m\n\u001b[0;32m----> 5\u001b[0;31m \u001b[0mprint\u001b[0m\u001b[0;34m(\u001b[0m\u001b[0ma\u001b[0m\u001b[0;34m)\u001b[0m\u001b[0;34m\u001b[0m\u001b[0;34m\u001b[0m\u001b[0m\n\u001b[0m",
      "\u001b[0;31mNameError\u001b[0m: name 'a' is not defined"
     ]
    }
   ],
   "source": [
    "def fun():\n",
    "    a = 5\n",
    "    return a\n",
    "\n",
    "print(a)"
   ]
  },
  {
   "cell_type": "markdown",
   "id": "dcea6e1b",
   "metadata": {},
   "source": [
    "**Note:** We refer to a variable's scope as the part of the code where it is accessible."
   ]
  }
 ],
 "metadata": {
  "kernelspec": {
   "display_name": "Python 3 (ipykernel)",
   "language": "python",
   "name": "python3"
  },
  "language_info": {
   "codemirror_mode": {
    "name": "ipython",
    "version": 3
   },
   "file_extension": ".py",
   "mimetype": "text/x-python",
   "name": "python",
   "nbconvert_exporter": "python",
   "pygments_lexer": "ipython3",
   "version": "3.9.13"
  }
 },
 "nbformat": 4,
 "nbformat_minor": 5
}
