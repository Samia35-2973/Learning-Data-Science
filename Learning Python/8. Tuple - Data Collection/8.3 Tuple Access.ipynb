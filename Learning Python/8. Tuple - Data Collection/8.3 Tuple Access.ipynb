{
 "cells": [
  {
   "cell_type": "markdown",
   "id": "fd237352",
   "metadata": {},
   "source": [
    "# Access\n",
    "\n",
    "### Access by Index\n",
    "List items are indexed and you can access them by referring to the index number\n",
    "\n",
    "#### Positive Indexing\n",
    "Starts from 0....goes forward"
   ]
  },
  {
   "cell_type": "code",
   "execution_count": 1,
   "id": "66838059",
   "metadata": {},
   "outputs": [
    {
     "name": "stdout",
     "output_type": "stream",
     "text": [
      "banana\n"
     ]
    }
   ],
   "source": [
    "thislist = (\"apple\", \"banana\", \"cherry\")\n",
    "print(thislist[1])"
   ]
  },
  {
   "cell_type": "markdown",
   "id": "b91d8eef",
   "metadata": {},
   "source": [
    "#### Negative Indexing\n",
    "Negative indexing means start from the end and goes backward. Index starts from -1"
   ]
  },
  {
   "cell_type": "code",
   "execution_count": 2,
   "id": "fbd163af",
   "metadata": {},
   "outputs": [
    {
     "name": "stdout",
     "output_type": "stream",
     "text": [
      "cherry\n"
     ]
    }
   ],
   "source": [
    "print(thislist[-1])"
   ]
  },
  {
   "cell_type": "markdown",
   "id": "8ce8f8a7",
   "metadata": {},
   "source": [
    "### Slicing\n",
    "You can specify a range of indexes by specifying where to start and where to end the range."
   ]
  },
  {
   "cell_type": "markdown",
   "id": "cc7150a2",
   "metadata": {},
   "source": [
    "#### tuple[x,y]\n",
    "Slicing b[x:y] here x:y means a subtuple from x to y index. but here the subtuple is taken from x to y-1 always"
   ]
  },
  {
   "cell_type": "code",
   "execution_count": 4,
   "id": "b205495e",
   "metadata": {},
   "outputs": [
    {
     "name": "stdout",
     "output_type": "stream",
     "text": [
      "('cherry', 'orange', 'kiwi')\n"
     ]
    }
   ],
   "source": [
    "thistuple = (\"apple\", \"banana\", \"cherry\", \"orange\", \"kiwi\", \"melon\", \"mango\")\n",
    "print(thistuple[2:5])"
   ]
  },
  {
   "cell_type": "markdown",
   "id": "85cb6c03",
   "metadata": {},
   "source": [
    "#### tuple[:y]\n",
    "Slicing b[:y] here :y means a subtuple from start to y-1 index"
   ]
  },
  {
   "cell_type": "code",
   "execution_count": 5,
   "id": "e41ab242",
   "metadata": {},
   "outputs": [
    {
     "name": "stdout",
     "output_type": "stream",
     "text": [
      "('apple', 'banana', 'cherry', 'orange')\n"
     ]
    }
   ],
   "source": [
    "print(thistuple[:4])"
   ]
  },
  {
   "cell_type": "markdown",
   "id": "77541ead",
   "metadata": {},
   "source": [
    "#### tuple[x:]\n",
    "slicing b[x:] here x: means a subtuple from x to end index"
   ]
  },
  {
   "cell_type": "code",
   "execution_count": 6,
   "id": "2bc7913d",
   "metadata": {},
   "outputs": [
    {
     "name": "stdout",
     "output_type": "stream",
     "text": [
      "('cherry', 'orange', 'kiwi', 'melon', 'mango')\n"
     ]
    }
   ],
   "source": [
    "print(thistuple[2:])"
   ]
  },
  {
   "cell_type": "markdown",
   "id": "6049166b",
   "metadata": {},
   "source": [
    "#### tuple[-x, -y]\n",
    "Specify negative indexes if you want to start the search from the end of the tuple. -x is the starting and ending is -y-1"
   ]
  },
  {
   "cell_type": "code",
   "execution_count": 7,
   "id": "b4b31455",
   "metadata": {},
   "outputs": [
    {
     "name": "stdout",
     "output_type": "stream",
     "text": [
      "('orange', 'kiwi', 'melon')\n"
     ]
    }
   ],
   "source": [
    "print(thistuple[-4:-1])"
   ]
  },
  {
   "cell_type": "markdown",
   "id": "df82012f",
   "metadata": {},
   "source": [
    "### Check if item exists in tuple\n",
    "To determine if a specified item is present in a tuple use the in keyword"
   ]
  },
  {
   "cell_type": "code",
   "execution_count": 9,
   "id": "f4350647",
   "metadata": {},
   "outputs": [
    {
     "name": "stdout",
     "output_type": "stream",
     "text": [
      "Yes, 'apple' is in the fruits tuple\n"
     ]
    }
   ],
   "source": [
    "if \"apple\" in thislist:\n",
    "  print(\"Yes, 'apple' is in the fruits tuple\")"
   ]
  },
  {
   "cell_type": "markdown",
   "id": "c8b2a8ff",
   "metadata": {},
   "source": [
    "### Unpacking items\n",
    "from a tuple, we can unpack items to different variables"
   ]
  },
  {
   "cell_type": "code",
   "execution_count": 10,
   "id": "70942618",
   "metadata": {},
   "outputs": [
    {
     "name": "stdout",
     "output_type": "stream",
     "text": [
      "45, 33, 21\n"
     ]
    }
   ],
   "source": [
    "ages = (45, 33, 21)\n",
    "(x, y, z) = ages\n",
    "print(f\"{x}, {y}, {z}\")"
   ]
  },
  {
   "cell_type": "markdown",
   "id": "24e6ed80",
   "metadata": {},
   "source": [
    "**Note:**  The number of variables must match the number of values in the tuple, if not, you must use an asterisk to collect the remaining values as a list.\n",
    "\n",
    "### Unpacking on unknown amount of variables\n",
    "If the number of variables is less than the number of values, you can add an * to the variable name and the values will be assigned to the variable as a list:"
   ]
  },
  {
   "cell_type": "code",
   "execution_count": 12,
   "id": "536fd596",
   "metadata": {},
   "outputs": [
    {
     "name": "stdout",
     "output_type": "stream",
     "text": [
      "apple\n",
      "banana\n",
      "['cherry', 'strawberry', 'raspberry']\n"
     ]
    }
   ],
   "source": [
    "fruits = (\"apple\", \"banana\", \"cherry\", \"strawberry\", \"raspberry\")\n",
    "\n",
    "(green, yellow, *red) = fruits\n",
    "\n",
    "print(green)\n",
    "print(yellow)\n",
    "print(red)"
   ]
  },
  {
   "cell_type": "markdown",
   "id": "629d2650",
   "metadata": {},
   "source": [
    "If the asterisk is added to another variable name than the last, Python will assign values to the variable until the number of values left matches the number of variables left."
   ]
  },
  {
   "cell_type": "code",
   "execution_count": 13,
   "id": "a19c1aeb",
   "metadata": {},
   "outputs": [
    {
     "name": "stdout",
     "output_type": "stream",
     "text": [
      "apple\n",
      "['mango', 'papaya', 'pineapple']\n",
      "cherry\n"
     ]
    }
   ],
   "source": [
    "fruits = (\"apple\", \"mango\", \"papaya\", \"pineapple\", \"cherry\")\n",
    "\n",
    "(green, *tropic, red) = fruits\n",
    "\n",
    "print(green)\n",
    "print(tropic)\n",
    "print(red)"
   ]
  },
  {
   "cell_type": "markdown",
   "id": "7243cce7",
   "metadata": {},
   "source": [
    "### Searching\n",
    "For a specific item we can search for index"
   ]
  },
  {
   "cell_type": "code",
   "execution_count": 11,
   "id": "b39de514",
   "metadata": {},
   "outputs": [
    {
     "name": "stdout",
     "output_type": "stream",
     "text": [
      "1\n"
     ]
    }
   ],
   "source": [
    "print(ages.index(33))"
   ]
  },
  {
   "cell_type": "markdown",
   "id": "cf247ce4",
   "metadata": {},
   "source": [
    "**Note:** if the item doesn't exist at all it will produce error. Hence use in operator always"
   ]
  }
 ],
 "metadata": {
  "kernelspec": {
   "display_name": "Python 3 (ipykernel)",
   "language": "python",
   "name": "python3"
  },
  "language_info": {
   "codemirror_mode": {
    "name": "ipython",
    "version": 3
   },
   "file_extension": ".py",
   "mimetype": "text/x-python",
   "name": "python",
   "nbconvert_exporter": "python",
   "pygments_lexer": "ipython3",
   "version": "3.9.13"
  }
 },
 "nbformat": 4,
 "nbformat_minor": 5
}
