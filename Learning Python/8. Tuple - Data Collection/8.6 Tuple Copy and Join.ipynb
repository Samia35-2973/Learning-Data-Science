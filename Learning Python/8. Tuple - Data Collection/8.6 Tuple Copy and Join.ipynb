{
 "cells": [
  {
   "cell_type": "markdown",
   "id": "6daadd1c",
   "metadata": {},
   "source": [
    "## Copy\n",
    "### Assigning a tuple to another tuple\n",
    "You cannot copy a tuple simply by typing tuple2 = tuple1, because: tuple2 will only be a reference to tuple1, and changes made in tuple1 will automatically also be made in tuple2. But it is safe with tuple since it cannot be modified"
   ]
  },
  {
   "cell_type": "code",
   "execution_count": 1,
   "id": "0472bb08",
   "metadata": {},
   "outputs": [
    {
     "name": "stdout",
     "output_type": "stream",
     "text": [
      "('apple', 'banana', 'cherry')\n"
     ]
    }
   ],
   "source": [
    "thislist = (\"apple\", \"banana\", \"cherry\")\n",
    "mylist = thislist\n",
    "print(mylist)"
   ]
  },
  {
   "cell_type": "markdown",
   "id": "9bc99ed6",
   "metadata": {},
   "source": [
    "### Copy by tuple()\n",
    "Another way to make a copy is to use the built-in method tuple()."
   ]
  },
  {
   "cell_type": "code",
   "execution_count": 3,
   "id": "4811fda8",
   "metadata": {},
   "outputs": [
    {
     "name": "stdout",
     "output_type": "stream",
     "text": [
      "('apple', 'banana', 'cherry')\n"
     ]
    }
   ],
   "source": [
    "thislist = (\"apple\", \"banana\", \"cherry\")\n",
    "mylist = tuple(thislist)\n",
    "print(mylist)"
   ]
  },
  {
   "cell_type": "markdown",
   "id": "a8c55a04",
   "metadata": {},
   "source": [
    "## Join\n",
    "There are several ways to join, or concatenate, two or more tuples in Python.\n",
    "### Join by '+'\n",
    "One of the easiest ways are by using the + operator."
   ]
  },
  {
   "cell_type": "code",
   "execution_count": 4,
   "id": "5fc083ee",
   "metadata": {},
   "outputs": [
    {
     "name": "stdout",
     "output_type": "stream",
     "text": [
      "('a', 'b', 'c', 1, 2, 3)\n"
     ]
    }
   ],
   "source": [
    "list1 = (\"a\", \"b\", \"c\")\n",
    "list2 = (1, 2, 3)\n",
    "\n",
    "list3 = list1 + list2\n",
    "print(list3)"
   ]
  },
  {
   "cell_type": "markdown",
   "id": "ab1a9f94",
   "metadata": {},
   "source": [
    "### Multiply a tuple\n",
    "If you want to multiply the content of a tuple a given number of times, you can use the * operator"
   ]
  },
  {
   "cell_type": "code",
   "execution_count": 5,
   "id": "302e2efb",
   "metadata": {},
   "outputs": [
    {
     "name": "stdout",
     "output_type": "stream",
     "text": [
      "('apple', 'banana', 'cherry', 'apple', 'banana', 'cherry')\n"
     ]
    }
   ],
   "source": [
    "fruits = (\"apple\", \"banana\", \"cherry\")\n",
    "mytuple = fruits * 2\n",
    "\n",
    "print(mytuple)"
   ]
  }
 ],
 "metadata": {
  "kernelspec": {
   "display_name": "Python 3 (ipykernel)",
   "language": "python",
   "name": "python3"
  },
  "language_info": {
   "codemirror_mode": {
    "name": "ipython",
    "version": 3
   },
   "file_extension": ".py",
   "mimetype": "text/x-python",
   "name": "python",
   "nbconvert_exporter": "python",
   "pygments_lexer": "ipython3",
   "version": "3.9.13"
  }
 },
 "nbformat": 4,
 "nbformat_minor": 5
}
