{
 "cells": [
  {
   "cell_type": "markdown",
   "id": "097bd9c6",
   "metadata": {},
   "source": [
    "# tuple\n",
    "- tuple are used to store multiple items of any type in a single variable.\n",
    "- tuple are created using round brackets and elements seperated by comma\n",
    "- tuple items are ordered: If you add new items to a tuple, the new items will be placed at the end of the tuple., \n",
    "- tuple items are Unchangeable: cannot change, add, and remove items in a tuple after it has been created.\n",
    "- tuple items allow duplicate values: tuple can have items with the same value\n",
    "- tuple items are indexed starting from 0"
   ]
  },
  {
   "cell_type": "code",
   "execution_count": 1,
   "id": "e68f6371",
   "metadata": {},
   "outputs": [
    {
     "name": "stdout",
     "output_type": "stream",
     "text": [
      "('apple', 'banana', 'cherry')\n"
     ]
    }
   ],
   "source": [
    "thistuple = (\"apple\", \"banana\", \"cherry\")\n",
    "print(thistuple)"
   ]
  },
  {
   "cell_type": "markdown",
   "id": "00fadcb5",
   "metadata": {},
   "source": [
    "### Tuple of Tuples"
   ]
  },
  {
   "cell_type": "code",
   "execution_count": 2,
   "id": "b7fa3c51",
   "metadata": {},
   "outputs": [
    {
     "name": "stdout",
     "output_type": "stream",
     "text": [
      "(('J', 'Q', 'K'), ('2', '2', '2'), ('6', 'A', 'K'))\n",
      "(('J', 'Q', 'K'), ('2', '2', '2'), ('6', 'A', 'K'))\n"
     ]
    }
   ],
   "source": [
    "hands = (\n",
    "    ('J', 'Q', 'K'),\n",
    "    ('2', '2', '2'),\n",
    "    ('6', 'A', 'K'), # (Comma after the last element is optional)\n",
    ")\n",
    "print(hands)\n",
    "# (I could also have written this on one line, but it can get hard to read)\n",
    "hands = (('J', 'Q', 'K'), ('2', '2', '2'), ('6', 'A', 'K'))\n",
    "print(hands)"
   ]
  },
  {
   "cell_type": "markdown",
   "id": "178dd358",
   "metadata": {},
   "source": [
    "### tuple Constructor\n",
    "It is also possible to use the tuple() constructor when creating a new tuple"
   ]
  },
  {
   "cell_type": "code",
   "execution_count": 3,
   "id": "ff181496",
   "metadata": {},
   "outputs": [
    {
     "name": "stdout",
     "output_type": "stream",
     "text": [
      "('apple', 'banana', 'cherry')\n"
     ]
    }
   ],
   "source": [
    "thistuple = tuple((\"apple\", \"banana\", \"cherry\")) # note the double round-brackets\n",
    "print(thistuple)"
   ]
  },
  {
   "cell_type": "markdown",
   "id": "2d2840e1",
   "metadata": {},
   "source": [
    "### Different types in One tuple\n",
    "can contain different type values in same tuple"
   ]
  },
  {
   "cell_type": "code",
   "execution_count": 4,
   "id": "9cf30113",
   "metadata": {},
   "outputs": [
    {
     "name": "stdout",
     "output_type": "stream",
     "text": [
      "('banana', 'apple', 'cherry', True, 44, 5.69)\n"
     ]
    }
   ],
   "source": [
    "s = (\"banana\", \"apple\", \"cherry\", True, 44, 5.69)\n",
    "print(s)"
   ]
  },
  {
   "cell_type": "markdown",
   "id": "9235fc95",
   "metadata": {},
   "source": [
    "### Create Tuple With One Item\n",
    "To create a tuple with only one item, you have to add a comma after the item, otherwise Python will not recognize it as a tuple."
   ]
  },
  {
   "cell_type": "code",
   "execution_count": 5,
   "id": "69cdc6a4",
   "metadata": {},
   "outputs": [
    {
     "name": "stdout",
     "output_type": "stream",
     "text": [
      "<class 'tuple'>\n",
      "<class 'str'>\n"
     ]
    }
   ],
   "source": [
    "thistuple = (\"apple\",)\n",
    "print(type(thistuple))\n",
    "\n",
    "#NOT a tuple\n",
    "thistuple = (\"apple\")\n",
    "print(type(thistuple))"
   ]
  },
  {
   "cell_type": "markdown",
   "id": "892746ed",
   "metadata": {},
   "source": [
    "### Used for multple returns\n",
    "Tuples are often used for functions that have multiple return values."
   ]
  },
  {
   "cell_type": "code",
   "execution_count": 6,
   "id": "deb4f41d",
   "metadata": {},
   "outputs": [
    {
     "data": {
      "text/plain": [
       "(1, 8)"
      ]
     },
     "execution_count": 6,
     "metadata": {},
     "output_type": "execute_result"
    }
   ],
   "source": [
    "x = 0.125\n",
    "x.as_integer_ratio()"
   ]
  }
 ],
 "metadata": {
  "kernelspec": {
   "display_name": "Python 3 (ipykernel)",
   "language": "python",
   "name": "python3"
  },
  "language_info": {
   "codemirror_mode": {
    "name": "ipython",
    "version": 3
   },
   "file_extension": ".py",
   "mimetype": "text/x-python",
   "name": "python",
   "nbconvert_exporter": "python",
   "pygments_lexer": "ipython3",
   "version": "3.9.13"
  }
 },
 "nbformat": 4,
 "nbformat_minor": 5
}
