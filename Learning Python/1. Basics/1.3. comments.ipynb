{
 "cells": [
  {
   "cell_type": "markdown",
   "id": "0bcd21bc",
   "metadata": {},
   "source": [
    "# Comments\n",
    "\n",
    "### Single Line Comments\n",
    "Adding a # before the comment indicate single line comment"
   ]
  },
  {
   "cell_type": "code",
   "execution_count": null,
   "id": "dba271d2",
   "metadata": {},
   "outputs": [],
   "source": [
    "# This is first comment\n",
    "# This is second comment"
   ]
  },
  {
   "cell_type": "markdown",
   "id": "58b577ef",
   "metadata": {},
   "source": [
    "### Multiline Comments - Docstring\n",
    "It is better to use # every line for multiline comments. However if necessary use a multiline string. Since Python will ignore string literals that are not assigned to a variable, you can add a multiline string (triple quotes) in your code, and place your comment inside it. As long as the string is not assigned to a variable, Python will read the code, but then ignore it"
   ]
  },
  {
   "cell_type": "code",
   "execution_count": 2,
   "id": "bdff6f48",
   "metadata": {},
   "outputs": [
    {
     "name": "stdout",
     "output_type": "stream",
     "text": [
      "4\n"
     ]
    }
   ],
   "source": [
    "\"\"\"\n",
    "Hi.\n",
    "My name is Tisha.\n",
    "This is\n",
    "a   \n",
    "     multiline comment\n",
    "\"\"\"\n",
    "\n",
    "a = 4\n",
    "print(a)"
   ]
  }
 ],
 "metadata": {
  "kernelspec": {
   "display_name": "Python 3 (ipykernel)",
   "language": "python",
   "name": "python3"
  },
  "language_info": {
   "codemirror_mode": {
    "name": "ipython",
    "version": 3
   },
   "file_extension": ".py",
   "mimetype": "text/x-python",
   "name": "python",
   "nbconvert_exporter": "python",
   "pygments_lexer": "ipython3",
   "version": "3.9.13"
  }
 },
 "nbformat": 4,
 "nbformat_minor": 5
}
