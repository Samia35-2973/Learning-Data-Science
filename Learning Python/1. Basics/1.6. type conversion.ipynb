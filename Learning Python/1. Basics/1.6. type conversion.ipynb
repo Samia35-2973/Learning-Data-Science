{
 "cells": [
  {
   "cell_type": "markdown",
   "id": "345c92a6",
   "metadata": {},
   "source": [
    "# Type Conversion\n",
    "\n",
    "### Concatenating Differnet type is impossible"
   ]
  },
  {
   "cell_type": "code",
   "execution_count": 1,
   "id": "25ea6814",
   "metadata": {},
   "outputs": [
    {
     "ename": "TypeError",
     "evalue": "can only concatenate str (not \"int\") to str",
     "output_type": "error",
     "traceback": [
      "\u001b[0;31m---------------------------------------------------------------------------\u001b[0m",
      "\u001b[0;31mTypeError\u001b[0m                                 Traceback (most recent call last)",
      "\u001b[0;32m/tmp/ipykernel_19814/3963271754.py\u001b[0m in \u001b[0;36m<module>\u001b[0;34m\u001b[0m\n\u001b[0;32m----> 1\u001b[0;31m \u001b[0ma\u001b[0m \u001b[0;34m=\u001b[0m \u001b[0;34m'10'\u001b[0m \u001b[0;34m+\u001b[0m \u001b[0;36m10\u001b[0m\u001b[0;34m\u001b[0m\u001b[0;34m\u001b[0m\u001b[0m\n\u001b[0m\u001b[1;32m      2\u001b[0m \u001b[0mprint\u001b[0m\u001b[0;34m(\u001b[0m\u001b[0ma\u001b[0m\u001b[0;34m)\u001b[0m\u001b[0;34m\u001b[0m\u001b[0;34m\u001b[0m\u001b[0m\n",
      "\u001b[0;31mTypeError\u001b[0m: can only concatenate str (not \"int\") to str"
     ]
    }
   ],
   "source": [
    "a = '10' + 10\n",
    "print(a)"
   ]
  },
  {
   "cell_type": "markdown",
   "id": "0c084e8e",
   "metadata": {},
   "source": [
    "### Use function types to convert\n",
    "\n",
    "Here is a list of datatypes.\n",
    "[Datatypes](https://www.w3schools.com/python/python_datatypes.asp)\n"
   ]
  },
  {
   "cell_type": "code",
   "execution_count": 2,
   "id": "746e0827",
   "metadata": {},
   "outputs": [
    {
     "name": "stdout",
     "output_type": "stream",
     "text": [
      "1010\n",
      "20.25\n"
     ]
    }
   ],
   "source": [
    "a = '10' + str(10)\n",
    "print(a)\n",
    "b = 10 + float('10.25')\n",
    "print(b)"
   ]
  },
  {
   "cell_type": "markdown",
   "id": "ac30e84c",
   "metadata": {},
   "source": [
    "### Input with type conversion"
   ]
  },
  {
   "cell_type": "code",
   "execution_count": 6,
   "id": "dc473d00",
   "metadata": {},
   "outputs": [
    {
     "name": "stdout",
     "output_type": "stream",
     "text": [
      "22\n",
      "My age is 24\n"
     ]
    }
   ],
   "source": [
    "print(\"My age is\", int(input())+2)"
   ]
  }
 ],
 "metadata": {
  "kernelspec": {
   "display_name": "Python 3 (ipykernel)",
   "language": "python",
   "name": "python3"
  },
  "language_info": {
   "codemirror_mode": {
    "name": "ipython",
    "version": 3
   },
   "file_extension": ".py",
   "mimetype": "text/x-python",
   "name": "python",
   "nbconvert_exporter": "python",
   "pygments_lexer": "ipython3",
   "version": "3.9.13"
  }
 },
 "nbformat": 4,
 "nbformat_minor": 5
}
