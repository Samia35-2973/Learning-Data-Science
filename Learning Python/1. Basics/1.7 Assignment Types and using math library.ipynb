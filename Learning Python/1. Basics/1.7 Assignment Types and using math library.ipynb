{
 "cells": [
  {
   "cell_type": "markdown",
   "id": "481a43b5",
   "metadata": {},
   "source": [
    "# Types of Assigning Values\n",
    "### Assigning all variable to same value"
   ]
  },
  {
   "cell_type": "code",
   "execution_count": 5,
   "id": "29abd0eb",
   "metadata": {},
   "outputs": [
    {
     "name": "stdout",
     "output_type": "stream",
     "text": [
      "x= 3, y = 3, z = 3\n"
     ]
    }
   ],
   "source": [
    "x = y = z = 3\n",
    "print(f\"x= {x}, y = {y}, z = {z}\")"
   ]
  },
  {
   "cell_type": "markdown",
   "id": "60ba616f",
   "metadata": {},
   "source": [
    "### Assigning variables with values in single line"
   ]
  },
  {
   "cell_type": "code",
   "execution_count": 6,
   "id": "476e9bb3",
   "metadata": {},
   "outputs": [
    {
     "name": "stdout",
     "output_type": "stream",
     "text": [
      "x= 1, y = 2, z = 3\n"
     ]
    }
   ],
   "source": [
    "x, y, z = 1, 2, 3\n",
    "print(f\"x= {x}, y = {y}, z = {z}\")"
   ]
  },
  {
   "cell_type": "markdown",
   "id": "ae8b5c1a",
   "metadata": {},
   "source": [
    "# Using Math Library\n",
    "### Importing Math library\n",
    "It is important to import math library before using any of it's methods"
   ]
  },
  {
   "cell_type": "code",
   "execution_count": 7,
   "id": "2b166966",
   "metadata": {},
   "outputs": [],
   "source": [
    "import math"
   ]
  },
  {
   "cell_type": "markdown",
   "id": "9742581d",
   "metadata": {},
   "source": [
    "### Using methods \n",
    "- ceil\n",
    "- floor\n",
    "- round\n",
    "- factorial"
   ]
  },
  {
   "cell_type": "code",
   "execution_count": 8,
   "id": "cd93b037",
   "metadata": {},
   "outputs": [
    {
     "name": "stdout",
     "output_type": "stream",
     "text": [
      "6\n",
      "5\n",
      "6\n",
      "15511210043330985984000000\n"
     ]
    }
   ],
   "source": [
    "print(math.ceil(5.3))\n",
    "print(math.floor(5.5))\n",
    "print(round(5.5))\n",
    "print(math.factorial(25))"
   ]
  }
 ],
 "metadata": {
  "kernelspec": {
   "display_name": "Python 3 (ipykernel)",
   "language": "python",
   "name": "python3"
  },
  "language_info": {
   "codemirror_mode": {
    "name": "ipython",
    "version": 3
   },
   "file_extension": ".py",
   "mimetype": "text/x-python",
   "name": "python",
   "nbconvert_exporter": "python",
   "pygments_lexer": "ipython3",
   "version": "3.9.13"
  }
 },
 "nbformat": 4,
 "nbformat_minor": 5
}
