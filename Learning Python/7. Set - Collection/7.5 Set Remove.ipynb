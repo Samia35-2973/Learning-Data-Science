{
 "cells": [
  {
   "cell_type": "markdown",
   "id": "b910ad8e",
   "metadata": {},
   "source": [
    "## Remove\n",
    "### Remove item method\n",
    "To remove an item in a set, use the remove()method. If the item to remove does not exist, remove() will raise an error."
   ]
  },
  {
   "cell_type": "code",
   "execution_count": 1,
   "id": "c7525869",
   "metadata": {},
   "outputs": [
    {
     "name": "stdout",
     "output_type": "stream",
     "text": [
      "{'cherry', 'apple'}\n"
     ]
    }
   ],
   "source": [
    "thisset = {\"apple\", \"banana\", \"cherry\"}\n",
    "\n",
    "thisset.remove(\"banana\")\n",
    "\n",
    "print(thisset)"
   ]
  },
  {
   "cell_type": "markdown",
   "id": "008680fa",
   "metadata": {},
   "source": [
    "### discard method\n",
    "To remove an item in a set, use the discard()method. If the item to remove does not exist, discard() will not raise an error."
   ]
  },
  {
   "cell_type": "code",
   "execution_count": 2,
   "id": "9b39bef8",
   "metadata": {},
   "outputs": [
    {
     "name": "stdout",
     "output_type": "stream",
     "text": [
      "{'cherry', 'apple'}\n"
     ]
    }
   ],
   "source": [
    "thisset = {\"apple\", \"banana\", \"cherry\"}\n",
    "\n",
    "thisset.discard(\"banana\")\n",
    "\n",
    "print(thisset)"
   ]
  },
  {
   "cell_type": "markdown",
   "id": "6b04f8d8",
   "metadata": {},
   "source": [
    "### Pop()\n",
    "The return value of the pop() method is the removed item. the pop() method removes the last item after sorting the set."
   ]
  },
  {
   "cell_type": "code",
   "execution_count": 4,
   "id": "3cf0834b",
   "metadata": {},
   "outputs": [
    {
     "name": "stdout",
     "output_type": "stream",
     "text": [
      "cherry\n",
      "{'apple', 'banana'}\n"
     ]
    }
   ],
   "source": [
    "thisset = {\"apple\", \"cherry\", \"banana\"}\n",
    "\n",
    "x = thisset.pop()\n",
    "\n",
    "print(x)\n",
    "\n",
    "print(thisset)"
   ]
  },
  {
   "cell_type": "markdown",
   "id": "17855109",
   "metadata": {},
   "source": [
    "### Del for deleting List\n",
    "The del keyword can also delete the set completely."
   ]
  },
  {
   "cell_type": "code",
   "execution_count": 5,
   "id": "8656e3b8",
   "metadata": {},
   "outputs": [],
   "source": [
    "thisset = {\"apple\", \"banana\", \"cherry\"}\n",
    "del thisset"
   ]
  },
  {
   "cell_type": "markdown",
   "id": "333b397d",
   "metadata": {},
   "source": [
    "### Clear\n",
    "The clear() method empties the set."
   ]
  },
  {
   "cell_type": "code",
   "execution_count": null,
   "id": "793852d5",
   "metadata": {},
   "outputs": [],
   "source": [
    "thisset = {\"apple\", \"banana\", \"cherry\"}\n",
    "\n",
    "thisset.clear()\n",
    "\n",
    "print(thisset)"
   ]
  }
 ],
 "metadata": {
  "kernelspec": {
   "display_name": "Python 3 (ipykernel)",
   "language": "python",
   "name": "python3"
  },
  "language_info": {
   "codemirror_mode": {
    "name": "ipython",
    "version": 3
   },
   "file_extension": ".py",
   "mimetype": "text/x-python",
   "name": "python",
   "nbconvert_exporter": "python",
   "pygments_lexer": "ipython3",
   "version": "3.9.13"
  }
 },
 "nbformat": 4,
 "nbformat_minor": 5
}
