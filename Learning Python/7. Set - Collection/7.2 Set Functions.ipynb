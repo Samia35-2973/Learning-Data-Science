{
 "cells": [
  {
   "cell_type": "markdown",
   "id": "aa65c622",
   "metadata": {},
   "source": [
    "# SET Functions\n",
    "### Length\n",
    "To determine how many items a set has, use the len() function"
   ]
  },
  {
   "cell_type": "code",
   "execution_count": 1,
   "id": "652c8b4f",
   "metadata": {},
   "outputs": [
    {
     "name": "stdout",
     "output_type": "stream",
     "text": [
      "4\n"
     ]
    }
   ],
   "source": [
    "planets = {'Mercury', 'Venus', 'Earth', 'Mars',}\n",
    "print(len(planets))"
   ]
  },
  {
   "cell_type": "markdown",
   "id": "e75acdda",
   "metadata": {},
   "source": [
    "### By default Sorted\n",
    "Sets are by default sorted"
   ]
  },
  {
   "cell_type": "code",
   "execution_count": 2,
   "id": "5a3bc217",
   "metadata": {},
   "outputs": [
    {
     "data": {
      "text/plain": [
       "{'Earth', 'Mars', 'Mercury', 'Venus'}"
      ]
     },
     "execution_count": 2,
     "metadata": {},
     "output_type": "execute_result"
    }
   ],
   "source": [
    "# The planets sorted in alphabetical order\n",
    "planets"
   ]
  },
  {
   "cell_type": "markdown",
   "id": "0ce7311c",
   "metadata": {},
   "source": [
    "### Sum\n",
    "sum returns the summation of the set"
   ]
  },
  {
   "cell_type": "code",
   "execution_count": 3,
   "id": "3c274d3f",
   "metadata": {},
   "outputs": [
    {
     "data": {
      "text/plain": [
       "17"
      ]
     },
     "execution_count": 3,
     "metadata": {},
     "output_type": "execute_result"
    }
   ],
   "source": [
    "primes = {2, 3, 5, 7}\n",
    "sum(primes)"
   ]
  },
  {
   "cell_type": "markdown",
   "id": "cb1fe25b",
   "metadata": {},
   "source": [
    "### Min and Max\n",
    "We've previously used the min and max to get the minimum or maximum of several arguments."
   ]
  },
  {
   "cell_type": "code",
   "execution_count": 4,
   "id": "21534ba8",
   "metadata": {},
   "outputs": [
    {
     "name": "stdout",
     "output_type": "stream",
     "text": [
      "7\n",
      "2\n"
     ]
    }
   ],
   "source": [
    "print(max(primes))\n",
    "print(min(primes))"
   ]
  }
 ],
 "metadata": {
  "kernelspec": {
   "display_name": "Python 3 (ipykernel)",
   "language": "python",
   "name": "python3"
  },
  "language_info": {
   "codemirror_mode": {
    "name": "ipython",
    "version": 3
   },
   "file_extension": ".py",
   "mimetype": "text/x-python",
   "name": "python",
   "nbconvert_exporter": "python",
   "pygments_lexer": "ipython3",
   "version": "3.9.13"
  }
 },
 "nbformat": 4,
 "nbformat_minor": 5
}
