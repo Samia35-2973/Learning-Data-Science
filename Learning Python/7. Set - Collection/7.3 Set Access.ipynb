{
 "cells": [
  {
   "cell_type": "markdown",
   "id": "fd237352",
   "metadata": {},
   "source": [
    "# Access\n",
    "\n",
    "### Access by iterator\n",
    "loop through the set items using a for loop, or ask if a specified value is present in a set, by using the in keyword."
   ]
  },
  {
   "cell_type": "code",
   "execution_count": 3,
   "id": "66838059",
   "metadata": {},
   "outputs": [
    {
     "name": "stdout",
     "output_type": "stream",
     "text": [
      "banana\n"
     ]
    }
   ],
   "source": [
    "thisset = {\"apple\", \"banana\", \"cherry\"}\n",
    "\n",
    "for x in thisset:\n",
    "  print(x)"
   ]
  },
  {
   "cell_type": "markdown",
   "id": "b91d8eef",
   "metadata": {},
   "source": [
    "### Access by In operator"
   ]
  },
  {
   "cell_type": "code",
   "execution_count": 4,
   "id": "fbd163af",
   "metadata": {},
   "outputs": [
    {
     "name": "stdout",
     "output_type": "stream",
     "text": [
      "cherry\n"
     ]
    }
   ],
   "source": [
    "thisset = {\"apple\", \"banana\", \"cherry\"}\n",
    "\n",
    "print(\"banana\" in thisset)"
   ]
  },
  {
   "cell_type": "markdown",
   "id": "c8b2a8ff",
   "metadata": {},
   "source": [
    "### Unpacking items\n",
    "from a set, we can unpack items to different variables"
   ]
  },
  {
   "cell_type": "code",
   "execution_count": 1,
   "id": "70942618",
   "metadata": {},
   "outputs": [
    {
     "name": "stdout",
     "output_type": "stream",
     "text": [
      "33, 45, 21\n"
     ]
    }
   ],
   "source": [
    "ages ={45, 33, 21}\n",
    "x, y, z = ages\n",
    "print(f\"{x}, {y}, {z}\")"
   ]
  }
 ],
 "metadata": {
  "kernelspec": {
   "display_name": "Python 3 (ipykernel)",
   "language": "python",
   "name": "python3"
  },
  "language_info": {
   "codemirror_mode": {
    "name": "ipython",
    "version": 3
   },
   "file_extension": ".py",
   "mimetype": "text/x-python",
   "name": "python",
   "nbconvert_exporter": "python",
   "pygments_lexer": "ipython3",
   "version": "3.9.13"
  }
 },
 "nbformat": 4,
 "nbformat_minor": 5
}
