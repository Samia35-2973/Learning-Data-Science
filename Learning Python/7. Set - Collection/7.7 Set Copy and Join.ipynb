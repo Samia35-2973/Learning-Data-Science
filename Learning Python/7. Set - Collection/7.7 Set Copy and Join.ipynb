{
 "cells": [
  {
   "cell_type": "markdown",
   "id": "6daadd1c",
   "metadata": {},
   "source": [
    "## Copy\n",
    "### Assigning a set to another set\n",
    "You cannot copy a set simply by typing set2 = set1, bsetecause: set2 will only be a reference to set1, and changes made in set1 will automatically also be made in set2."
   ]
  },
  {
   "cell_type": "code",
   "execution_count": 4,
   "id": "0472bb08",
   "metadata": {},
   "outputs": [
    {
     "name": "stdout",
     "output_type": "stream",
     "text": [
      "{'apple', 'banana', 'cherry'}\n",
      "{'apple', 'banana', 'cherry', 'orange'}\n"
     ]
    }
   ],
   "source": [
    "thisset = {\"apple\", \"banana\", \"cherry\"}\n",
    "myset = thisset\n",
    "print(myset)\n",
    "\n",
    "# Now if we change thisset\n",
    "thisset.add(\"orange\")\n",
    "print(myset)"
   ]
  },
  {
   "cell_type": "markdown",
   "id": "a20a9ed0",
   "metadata": {},
   "source": [
    "### Copy a List\n",
    "There are ways to make a copy, one way is to use the built-in List method copy()."
   ]
  },
  {
   "cell_type": "code",
   "execution_count": 3,
   "id": "16dad5fd",
   "metadata": {},
   "outputs": [
    {
     "name": "stdout",
     "output_type": "stream",
     "text": [
      "{'apple', 'banana', 'cherry'}\n",
      "{'apple', 'banana', 'cherry'}\n"
     ]
    }
   ],
   "source": [
    "thisset = {\"apple\", \"banana\", \"cherry\"}\n",
    "myset = thisset.copy()\n",
    "print(myset)\n",
    "\n",
    "# Now if we change thislist\n",
    "thisset.add(\"orange\")\n",
    "print(myset)"
   ]
  },
  {
   "cell_type": "markdown",
   "id": "9bc99ed6",
   "metadata": {},
   "source": [
    "### Copy by set()\n",
    "Another way to make a copy is to use the built-in method set()."
   ]
  },
  {
   "cell_type": "code",
   "execution_count": 6,
   "id": "4811fda8",
   "metadata": {},
   "outputs": [
    {
     "name": "stdout",
     "output_type": "stream",
     "text": [
      "{'apple', 'banana', 'cherry'}\n"
     ]
    }
   ],
   "source": [
    "thisSet = {\"apple\", \"banana\", \"cherry\"}\n",
    "mySet = set(thisSet)\n",
    "print(mySet)"
   ]
  },
  {
   "cell_type": "markdown",
   "id": "a8c55a04",
   "metadata": {},
   "source": [
    "## Join\n",
    "There are several ways to join sets in Python.\n",
    "\n",
    "### Join by update\n",
    "It's show in Set Add file\n",
    "\n",
    "### Join by union\n",
    "use the union() method that returns a new set containing all items from both sets"
   ]
  },
  {
   "cell_type": "code",
   "execution_count": 7,
   "id": "5fc083ee",
   "metadata": {},
   "outputs": [
    {
     "name": "stdout",
     "output_type": "stream",
     "text": [
      "{'b', 1, 2, 3, 'a', 'c'}\n"
     ]
    }
   ],
   "source": [
    "set1 = {\"a\", \"b\" , \"c\"}\n",
    "set2 = {1, 2, 3}\n",
    "\n",
    "set3 = set1.union(set2)\n",
    "print(set3)"
   ]
  },
  {
   "cell_type": "markdown",
   "id": "ab1a9f94",
   "metadata": {},
   "source": [
    "**Note:** Note: Both union() and update() will exclude any duplicate items."
   ]
  },
  {
   "cell_type": "markdown",
   "id": "c3bc3a44",
   "metadata": {},
   "source": [
    "### Keeping Duplicates\n",
    "#### intersection_update()\n",
    "The intersection_update() method will keep only the items that are present in both sets."
   ]
  },
  {
   "cell_type": "code",
   "execution_count": 8,
   "id": "445b5035",
   "metadata": {},
   "outputs": [
    {
     "name": "stdout",
     "output_type": "stream",
     "text": [
      "{'apple'}\n"
     ]
    }
   ],
   "source": [
    "x = {\"apple\", \"banana\", \"cherry\"}\n",
    "y = {\"google\", \"microsoft\", \"apple\"}\n",
    "\n",
    "x.intersection_update(y)\n",
    "\n",
    "print(x)"
   ]
  },
  {
   "cell_type": "markdown",
   "id": "0624e4ed",
   "metadata": {},
   "source": [
    "#### intersection()\n",
    "The intersection() method will return a new set, that only contains the items that are present in both sets."
   ]
  },
  {
   "cell_type": "code",
   "execution_count": 9,
   "id": "f9992d75",
   "metadata": {},
   "outputs": [
    {
     "name": "stdout",
     "output_type": "stream",
     "text": [
      "{'apple'}\n"
     ]
    }
   ],
   "source": [
    "x = {\"apple\", \"banana\", \"cherry\"}\n",
    "y = {\"google\", \"microsoft\", \"apple\"}\n",
    "\n",
    "z = x.intersection(y)\n",
    "\n",
    "print(z)"
   ]
  },
  {
   "cell_type": "markdown",
   "id": "0c1e78bf",
   "metadata": {},
   "source": [
    "### Keep All but not duplicates\n",
    "#### symmetric_difference_update()\n",
    "keep only the elements that are NOT present in both sets."
   ]
  },
  {
   "cell_type": "code",
   "execution_count": 10,
   "id": "6844e977",
   "metadata": {},
   "outputs": [
    {
     "name": "stdout",
     "output_type": "stream",
     "text": [
      "{'microsoft', 'banana', 'google', 'cherry'}\n"
     ]
    }
   ],
   "source": [
    "x = {\"apple\", \"banana\", \"cherry\"}\n",
    "y = {\"google\", \"microsoft\", \"apple\"}\n",
    "\n",
    "x.symmetric_difference_update(y)\n",
    "\n",
    "print(x)"
   ]
  },
  {
   "cell_type": "markdown",
   "id": "b8944bf5",
   "metadata": {},
   "source": [
    "#### symmetric_difference()\n",
    "return a new set, that contains only the elements that are NOT present in both sets."
   ]
  },
  {
   "cell_type": "code",
   "execution_count": 11,
   "id": "27baa52c",
   "metadata": {},
   "outputs": [
    {
     "name": "stdout",
     "output_type": "stream",
     "text": [
      "{'microsoft', 'google', 'banana', 'cherry'}\n"
     ]
    }
   ],
   "source": [
    "x = {\"apple\", \"banana\", \"cherry\"}\n",
    "y = {\"google\", \"microsoft\", \"apple\"}\n",
    "\n",
    "z = x.symmetric_difference(y)\n",
    "\n",
    "print(z)"
   ]
  }
 ],
 "metadata": {
  "kernelspec": {
   "display_name": "Python 3 (ipykernel)",
   "language": "python",
   "name": "python3"
  },
  "language_info": {
   "codemirror_mode": {
    "name": "ipython",
    "version": 3
   },
   "file_extension": ".py",
   "mimetype": "text/x-python",
   "name": "python",
   "nbconvert_exporter": "python",
   "pygments_lexer": "ipython3",
   "version": "3.9.13"
  }
 },
 "nbformat": 4,
 "nbformat_minor": 5
}
