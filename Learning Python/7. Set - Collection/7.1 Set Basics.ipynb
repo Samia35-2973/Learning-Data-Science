{
 "cells": [
  {
   "cell_type": "markdown",
   "id": "a65e78ee",
   "metadata": {},
   "source": [
    "# Set\n",
    "- Sets are used to store multiple items of any type in a single variable.\n",
    "- Sets are created using curly brackets and elements seperated by comma\n",
    "- Set items are unordered: Set items are sorted ascending order or alphabetically\n",
    "- Set items are unchangeable: cannot change once created,but we can remove and add new item\n",
    "- Set items do not allow duplicate values: Sets cannot have more than one items with the same value.\n",
    "- Set items are unindexed. "
   ]
  },
  {
   "cell_type": "code",
   "execution_count": 1,
   "id": "57dd4ff8",
   "metadata": {},
   "outputs": [
    {
     "name": "stdout",
     "output_type": "stream",
     "text": [
      "{'cherry', 'apple', 'banana'}\n"
     ]
    }
   ],
   "source": [
    "thisset = {\"apple\", \"banana\", \"cherry\"}\n",
    "print(thisset)"
   ]
  },
  {
   "cell_type": "markdown",
   "id": "26ab07e3",
   "metadata": {},
   "source": [
    "**Note:** The values True and 1 are considered the same value in sets, and are treated as duplicates"
   ]
  },
  {
   "cell_type": "code",
   "execution_count": 2,
   "id": "5f1880b8",
   "metadata": {},
   "outputs": [
    {
     "name": "stdout",
     "output_type": "stream",
     "text": [
      "{True, 'cherry', 2, 'banana', 'apple'}\n"
     ]
    }
   ],
   "source": [
    "thisset = {\"apple\", \"banana\", \"cherry\", True, 1, 2}\n",
    "\n",
    "print(thisset)"
   ]
  },
  {
   "cell_type": "markdown",
   "id": "01816666",
   "metadata": {},
   "source": [
    "### set Constructor\n",
    "It is also possible to use the set() constructor when creating a new set"
   ]
  },
  {
   "cell_type": "code",
   "execution_count": 6,
   "id": "0b28acff",
   "metadata": {},
   "outputs": [
    {
     "name": "stdout",
     "output_type": "stream",
     "text": [
      "{'cherry', 'banana', 'apple'}\n"
     ]
    }
   ],
   "source": [
    "thisset = set((\"apple\", \"banana\", \"cherry\")) # note the double round-brackets\n",
    "print(thisset)"
   ]
  },
  {
   "cell_type": "markdown",
   "id": "9c5d2313",
   "metadata": {},
   "source": [
    "### Different types in One set\n",
    "can contain different type values in same set"
   ]
  },
  {
   "cell_type": "code",
   "execution_count": 7,
   "id": "688c4f78",
   "metadata": {},
   "outputs": [
    {
     "name": "stdout",
     "output_type": "stream",
     "text": [
      "{True, 'cherry', 2, 'banana', 'apple'}\n"
     ]
    }
   ],
   "source": [
    "thisset = {\"apple\", \"banana\", \"cherry\", True, 1, 2}\n",
    "\n",
    "print(thisset)"
   ]
  }
 ],
 "metadata": {
  "kernelspec": {
   "display_name": "Python 3 (ipykernel)",
   "language": "python",
   "name": "python3"
  },
  "language_info": {
   "codemirror_mode": {
    "name": "ipython",
    "version": 3
   },
   "file_extension": ".py",
   "mimetype": "text/x-python",
   "name": "python",
   "nbconvert_exporter": "python",
   "pygments_lexer": "ipython3",
   "version": "3.9.13"
  }
 },
 "nbformat": 4,
 "nbformat_minor": 5
}
