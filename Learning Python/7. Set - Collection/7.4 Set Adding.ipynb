{
 "cells": [
  {
   "cell_type": "markdown",
   "id": "2cdd364b",
   "metadata": {},
   "source": [
    "## Adding\n",
    "### Add method\n",
    "To add an item to the set, use the add() method"
   ]
  },
  {
   "cell_type": "code",
   "execution_count": 1,
   "id": "29319623",
   "metadata": {},
   "outputs": [
    {
     "name": "stdout",
     "output_type": "stream",
     "text": [
      "{'banana', 'orange', 'cherry', 'apple'}\n"
     ]
    }
   ],
   "source": [
    "thisset = {\"apple\", \"banana\", \"cherry\"}\n",
    "\n",
    "thisset.add(\"orange\")\n",
    "\n",
    "print(thisset)"
   ]
  },
  {
   "cell_type": "markdown",
   "id": "5295e5fd",
   "metadata": {},
   "source": [
    "### Add set or any other iterable to set\n",
    "To add items from another set or any other iterable into the current set, use the update() method"
   ]
  },
  {
   "cell_type": "code",
   "execution_count": 2,
   "id": "8114aa5a",
   "metadata": {},
   "outputs": [
    {
     "name": "stdout",
     "output_type": "stream",
     "text": [
      "{'banana', 'cherry', 'pineapple', 'mango', 'apple', 'papaya'}\n",
      "{'banana', 'orange', 'cherry', 'pineapple', 'mango', 'kiwi', 'apple', 'papaya'}\n"
     ]
    }
   ],
   "source": [
    "thisset = {\"apple\", \"banana\", \"cherry\"}\n",
    "tropical = {\"pineapple\", \"mango\", \"papaya\"}\n",
    "\n",
    "thisset.update(tropical)\n",
    "\n",
    "print(thisset)\n",
    "\n",
    "mylist = [\"kiwi\", \"orange\"]\n",
    "\n",
    "thisset.update(mylist)\n",
    "\n",
    "print(thisset)"
   ]
  }
 ],
 "metadata": {
  "kernelspec": {
   "display_name": "Python 3 (ipykernel)",
   "language": "python",
   "name": "python3"
  },
  "language_info": {
   "codemirror_mode": {
    "name": "ipython",
    "version": 3
   },
   "file_extension": ".py",
   "mimetype": "text/x-python",
   "name": "python",
   "nbconvert_exporter": "python",
   "pygments_lexer": "ipython3",
   "version": "3.9.13"
  }
 },
 "nbformat": 4,
 "nbformat_minor": 5
}
