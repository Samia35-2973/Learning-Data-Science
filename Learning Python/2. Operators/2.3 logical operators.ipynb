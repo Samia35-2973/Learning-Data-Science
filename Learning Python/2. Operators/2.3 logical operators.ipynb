{
 "cells": [
  {
   "cell_type": "markdown",
   "id": "5a5aeb80",
   "metadata": {},
   "source": [
    "# Logical Operators\n",
    "### Types of logical operators\n",
    "- not\n",
    "- and\n",
    "- or"
   ]
  },
  {
   "cell_type": "code",
   "execution_count": 1,
   "id": "f12b32a6",
   "metadata": {},
   "outputs": [
    {
     "name": "stdout",
     "output_type": "stream",
     "text": [
      "False\n"
     ]
    }
   ],
   "source": [
    "print(not True)\n",
    "print(not False)"
   ]
  },
  {
   "cell_type": "markdown",
   "id": "f515ecd8",
   "metadata": {},
   "source": [
    "### And's Truth Table"
   ]
  },
  {
   "cell_type": "code",
   "execution_count": 3,
   "id": "e351694d",
   "metadata": {},
   "outputs": [
    {
     "name": "stdout",
     "output_type": "stream",
     "text": [
      "False\n",
      "False\n",
      "False\n",
      "True\n"
     ]
    }
   ],
   "source": [
    "print(False and False)\n",
    "print(False and True)\n",
    "print(True and False)\n",
    "print(True and True)"
   ]
  },
  {
   "cell_type": "markdown",
   "id": "a813c327",
   "metadata": {},
   "source": [
    "### Priority\n",
    "1. not\n",
    "2. and\n",
    "3. or"
   ]
  },
  {
   "cell_type": "code",
   "execution_count": null,
   "id": "192a1bd9",
   "metadata": {},
   "outputs": [],
   "source": [
    "print(False and not True or False and not False or True and not False and True)\n",
    "#                  False                 True                 True\n",
    "#         False                   False                   True\n",
    "#                                                              True\n",
    "# True"
   ]
  }
 ],
 "metadata": {
  "kernelspec": {
   "display_name": "Python 3 (ipykernel)",
   "language": "python",
   "name": "python3"
  },
  "language_info": {
   "codemirror_mode": {
    "name": "ipython",
    "version": 3
   },
   "file_extension": ".py",
   "mimetype": "text/x-python",
   "name": "python",
   "nbconvert_exporter": "python",
   "pygments_lexer": "ipython3",
   "version": "3.9.13"
  }
 },
 "nbformat": 4,
 "nbformat_minor": 5
}
