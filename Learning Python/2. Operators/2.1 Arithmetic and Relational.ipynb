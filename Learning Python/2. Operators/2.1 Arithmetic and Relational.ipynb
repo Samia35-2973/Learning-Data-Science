{
 "cells": [
  {
   "cell_type": "markdown",
   "id": "9ba27674",
   "metadata": {},
   "source": [
    "# Arithmetic Operations\n",
    "### Types of Arithmetic Operations\n",
    "- Addition(+) -->   1 + 2 = 3\n",
    "- Subtraction(-) -->\t5 - 4 = 1\n",
    "- Multiplication(*) -->\t2 * 4 = 8\n",
    "- Division(/) -->\t6 / 3 = 2\n",
    "- Exponent -->\t3 ** 2 = 9\n",
    "- Modulus(%) --> 3%2 = 1\n",
    "- Floor Division(//) --> 3//2 = 1"
   ]
  },
  {
   "cell_type": "code",
   "execution_count": 1,
   "id": "ac66e36c",
   "metadata": {},
   "outputs": [
    {
     "name": "stdout",
     "output_type": "stream",
     "text": [
      "3\n",
      "1\n",
      "8\n",
      "2.0\n",
      "9\n",
      "1\n",
      "1\n"
     ]
    }
   ],
   "source": [
    "print(1 + 2)\n",
    "print(5 - 4)\n",
    "print(2*4)\n",
    "print(6/3)\n",
    "print(3**2)\n",
    "print(3%2)\n",
    "print(3//2)"
   ]
  },
  {
   "cell_type": "markdown",
   "id": "00794913",
   "metadata": {},
   "source": [
    "### Operators Precedence(PEDMAS)\n",
    "- P > Parentheses first\n",
    "- E > Exponents (ie Powers and Square Roots, etc.)\n",
    "- MD > Multiplication and Division (left-to-right)\n",
    "- AS > Addition and Subtraction (left-to-right)"
   ]
  },
  {
   "cell_type": "code",
   "execution_count": 4,
   "id": "d39bc053",
   "metadata": {},
   "outputs": [
    {
     "name": "stdout",
     "output_type": "stream",
     "text": [
      "32\n",
      "20\n",
      "17\n",
      "12.0\n"
     ]
    }
   ],
   "source": [
    "print(4 * (5 + 3))\n",
    "print(5 * (2**2))\n",
    "print(2 + (5 * 3))\n",
    "print((30/5) * 2)"
   ]
  },
  {
   "cell_type": "markdown",
   "id": "c5b34ea6",
   "metadata": {},
   "source": [
    "# Relational Operators\n",
    "### Types of Relational Operators\n",
    "| Operator | Description                  | Example     |\n",
    "|----------|------------------------------|-------------|\n",
    "| `==`     | Equal                        | `x == y`    |\n",
    "| `!=`     | Not equal                    | `x != y`    |\n",
    "| `>`      | Greater than                 | `x > y`     |\n",
    "| `<`      | Less than                    | `x < y`     |\n",
    "| `>=`     | Greater than or equal to     | `x >= y`    |\n",
    "| `<=`     | Less than or equal to        | `x <= y`    |\n"
   ]
  },
  {
   "cell_type": "code",
   "execution_count": 5,
   "id": "89bd633a",
   "metadata": {},
   "outputs": [
    {
     "name": "stdout",
     "output_type": "stream",
     "text": [
      "True\n",
      "False\n",
      "False\n",
      "True\n"
     ]
    }
   ],
   "source": [
    "print(5==5)\n",
    "print(5!=5)\n",
    "print(6<5)\n",
    "print(5>=5)"
   ]
  }
 ],
 "metadata": {
  "kernelspec": {
   "display_name": "Python 3 (ipykernel)",
   "language": "python",
   "name": "python3"
  },
  "language_info": {
   "codemirror_mode": {
    "name": "ipython",
    "version": 3
   },
   "file_extension": ".py",
   "mimetype": "text/x-python",
   "name": "python",
   "nbconvert_exporter": "python",
   "pygments_lexer": "ipython3",
   "version": "3.9.13"
  }
 },
 "nbformat": 4,
 "nbformat_minor": 5
}
