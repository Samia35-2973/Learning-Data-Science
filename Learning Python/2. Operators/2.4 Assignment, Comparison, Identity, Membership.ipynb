{
 "cells": [
  {
   "cell_type": "markdown",
   "id": "1d439b63",
   "metadata": {},
   "source": [
    "# Assignment Operators\n",
    "### For assigning values we use ="
   ]
  },
  {
   "cell_type": "code",
   "execution_count": 1,
   "id": "4b62de95",
   "metadata": {},
   "outputs": [
    {
     "name": "stdout",
     "output_type": "stream",
     "text": [
      "6\n"
     ]
    }
   ],
   "source": [
    "a = 6\n",
    "print(a)"
   ]
  },
  {
   "cell_type": "markdown",
   "id": "0f2d7c49",
   "metadata": {},
   "source": [
    "### Compound Operators\n",
    "+=, -=, *= , /=, ***=, //=, %=, &=, |=, ^=, >>=, <<="
   ]
  },
  {
   "cell_type": "code",
   "execution_count": 2,
   "id": "826bca52",
   "metadata": {},
   "outputs": [
    {
     "name": "stdout",
     "output_type": "stream",
     "text": [
      "15\n"
     ]
    }
   ],
   "source": [
    "a = 10\n",
    "a += 5   # a = a + 5\n",
    "print(a)"
   ]
  },
  {
   "cell_type": "markdown",
   "id": "a8a63536",
   "metadata": {},
   "source": [
    "### Comparison Operators\n",
    "<, >, ==, <=, >=, !="
   ]
  },
  {
   "cell_type": "code",
   "execution_count": null,
   "id": "1977d247",
   "metadata": {},
   "outputs": [],
   "source": [
    "print(6>=5)\n",
    "print(6<=5)"
   ]
  },
  {
   "cell_type": "markdown",
   "id": "2d722bb5",
   "metadata": {},
   "source": [
    "### Identity Operator\n",
    "is = Returns True if both variables are the same object - x is y\n",
    "is not = Returns True if both variables are not the same object - x is not y"
   ]
  },
  {
   "cell_type": "code",
   "execution_count": 4,
   "id": "2faec35f",
   "metadata": {},
   "outputs": [
    {
     "name": "stdout",
     "output_type": "stream",
     "text": [
      "True\n",
      "False\n"
     ]
    },
    {
     "name": "stderr",
     "output_type": "stream",
     "text": [
      "<>:1: SyntaxWarning: \"is\" with a literal. Did you mean \"==\"?\n",
      "<>:2: SyntaxWarning: \"is not\" with a literal. Did you mean \"!=\"?\n",
      "<>:1: SyntaxWarning: \"is\" with a literal. Did you mean \"==\"?\n",
      "<>:2: SyntaxWarning: \"is not\" with a literal. Did you mean \"!=\"?\n",
      "/tmp/ipykernel_7271/4167528653.py:1: SyntaxWarning: \"is\" with a literal. Did you mean \"==\"?\n",
      "  print('Apple' is 'Apple')\n",
      "/tmp/ipykernel_7271/4167528653.py:2: SyntaxWarning: \"is not\" with a literal. Did you mean \"!=\"?\n",
      "  print('Apple' is not 'Apple')\n"
     ]
    }
   ],
   "source": [
    "print('Apple' is 'Apple')\n",
    "print('Apple' is not 'Apple')"
   ]
  },
  {
   "cell_type": "markdown",
   "id": "8f72a9ac",
   "metadata": {},
   "source": [
    "### Membership Operators\n",
    "in = Returns True if a sequence with the specified value is present in the object - x in y\n",
    "not in = Returns True if a sequence with the specified value is not present in the object - x not in y"
   ]
  },
  {
   "cell_type": "code",
   "execution_count": 5,
   "id": "822ffe2f",
   "metadata": {},
   "outputs": [
    {
     "name": "stdout",
     "output_type": "stream",
     "text": [
      "True\n",
      "True\n"
     ]
    }
   ],
   "source": [
    "print('pp' in 'Apple')\n",
    "print('b' not in 'Apple')"
   ]
  }
 ],
 "metadata": {
  "kernelspec": {
   "display_name": "Python 3 (ipykernel)",
   "language": "python",
   "name": "python3"
  },
  "language_info": {
   "codemirror_mode": {
    "name": "ipython",
    "version": 3
   },
   "file_extension": ".py",
   "mimetype": "text/x-python",
   "name": "python",
   "nbconvert_exporter": "python",
   "pygments_lexer": "ipython3",
   "version": "3.9.13"
  }
 },
 "nbformat": 4,
 "nbformat_minor": 5
}
