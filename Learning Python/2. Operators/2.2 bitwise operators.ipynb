{
 "cells": [
  {
   "cell_type": "markdown",
   "id": "31c15b55",
   "metadata": {},
   "source": [
    "# Bitwise Operators\n",
    "### Bitwise Or"
   ]
  },
  {
   "cell_type": "code",
   "execution_count": 1,
   "id": "51bf8800",
   "metadata": {},
   "outputs": [
    {
     "data": {
      "text/plain": [
       "3"
      ]
     },
     "execution_count": 1,
     "metadata": {},
     "output_type": "execute_result"
    }
   ],
   "source": [
    "3 | 2"
   ]
  },
  {
   "cell_type": "markdown",
   "id": "3762970b",
   "metadata": {},
   "source": [
    "### Bitwise and"
   ]
  },
  {
   "cell_type": "code",
   "execution_count": 2,
   "id": "0be78d8b",
   "metadata": {},
   "outputs": [
    {
     "data": {
      "text/plain": [
       "2"
      ]
     },
     "execution_count": 2,
     "metadata": {},
     "output_type": "execute_result"
    }
   ],
   "source": [
    "3 & 2"
   ]
  },
  {
   "cell_type": "markdown",
   "id": "e2863ab0",
   "metadata": {},
   "source": [
    "### Bitwise xor"
   ]
  },
  {
   "cell_type": "code",
   "execution_count": 3,
   "id": "206a6ca9",
   "metadata": {},
   "outputs": [
    {
     "data": {
      "text/plain": [
       "1"
      ]
     },
     "execution_count": 3,
     "metadata": {},
     "output_type": "execute_result"
    }
   ],
   "source": [
    "3 ^ 2"
   ]
  },
  {
   "cell_type": "markdown",
   "id": "15db3383",
   "metadata": {},
   "source": [
    "### Bitwise not"
   ]
  },
  {
   "cell_type": "code",
   "execution_count": 5,
   "id": "9948b4a2",
   "metadata": {},
   "outputs": [
    {
     "data": {
      "text/plain": [
       "-5"
      ]
     },
     "execution_count": 5,
     "metadata": {},
     "output_type": "execute_result"
    }
   ],
   "source": [
    "~(4)"
   ]
  },
  {
   "cell_type": "markdown",
   "id": "853798bd",
   "metadata": {},
   "source": [
    "### Bitwise left shift"
   ]
  },
  {
   "cell_type": "code",
   "execution_count": 7,
   "id": "a24cac71",
   "metadata": {},
   "outputs": [
    {
     "data": {
      "text/plain": [
       "20"
      ]
     },
     "execution_count": 7,
     "metadata": {},
     "output_type": "execute_result"
    }
   ],
   "source": [
    "5 << 2"
   ]
  },
  {
   "cell_type": "markdown",
   "id": "3158664a",
   "metadata": {},
   "source": [
    "### Bitwise Right shift"
   ]
  },
  {
   "cell_type": "code",
   "execution_count": 6,
   "id": "69978395",
   "metadata": {},
   "outputs": [
    {
     "data": {
      "text/plain": [
       "1"
      ]
     },
     "execution_count": 6,
     "metadata": {},
     "output_type": "execute_result"
    }
   ],
   "source": [
    "5 >> 2"
   ]
  }
 ],
 "metadata": {
  "kernelspec": {
   "display_name": "Python 3 (ipykernel)",
   "language": "python",
   "name": "python3"
  },
  "language_info": {
   "codemirror_mode": {
    "name": "ipython",
    "version": 3
   },
   "file_extension": ".py",
   "mimetype": "text/x-python",
   "name": "python",
   "nbconvert_exporter": "python",
   "pygments_lexer": "ipython3",
   "version": "3.9.13"
  }
 },
 "nbformat": 4,
 "nbformat_minor": 5
}
