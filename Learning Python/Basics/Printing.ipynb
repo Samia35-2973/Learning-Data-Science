{
 "cells": [
  {
   "cell_type": "markdown",
   "id": "3be51922",
   "metadata": {},
   "source": [
    "# Ways of Output"
   ]
  },
  {
   "cell_type": "markdown",
   "id": "5ca46b37",
   "metadata": {},
   "source": [
    "### Printing according to the output\n",
    "\n",
    "**Output:**\n",
    "\n",
    "Samia\n",
    "        Haque\n",
    "                Tisha"
   ]
  },
  {
   "cell_type": "code",
   "execution_count": 3,
   "id": "d8883c68",
   "metadata": {},
   "outputs": [
    {
     "name": "stdout",
     "output_type": "stream",
     "text": [
      "Samia\n",
      "\tHaque\n",
      "\t\tTisha\n"
     ]
    }
   ],
   "source": [
    "print(\"Samia\\n\\tHaque\\n\\t\\tTisha\")"
   ]
  },
  {
   "cell_type": "markdown",
   "id": "fa1a8a88",
   "metadata": {},
   "source": [
    "### Prints a single line\n",
    "\n",
    "print() function can print a sentence. Then the cursor goes to the new line"
   ]
  },
  {
   "cell_type": "code",
   "execution_count": 6,
   "id": "ecb14b39",
   "metadata": {},
   "outputs": [
    {
     "name": "stdout",
     "output_type": "stream",
     "text": [
      "Samia\n",
      "Tisha\n"
     ]
    }
   ],
   "source": [
    "print(\"Samia\")\n",
    "print(\"Tisha\")"
   ]
  },
  {
   "cell_type": "markdown",
   "id": "218daaeb",
   "metadata": {},
   "source": [
    "### Avoiding going to newline\n",
    "\n",
    "If we do not want the the cursor to go on next line, Use parameter end=' ' to the print statement. The cursor will stay there.\n",
    "\n",
    "It tells Python to use a space character as the ending character instead of a newline character. \n",
    "print(\"Tisha says: \" + end=' ') cant be used because of concatenation"
   ]
  },
  {
   "cell_type": "code",
   "execution_count": 7,
   "id": "4f7452bd",
   "metadata": {},
   "outputs": [
    {
     "name": "stdout",
     "output_type": "stream",
     "text": [
      "Samia Haque Tisha "
     ]
    }
   ],
   "source": [
    "print(\"Samia\", end=' ')\n",
    "print(\"Haque\", end=' ')\n",
    "print(\"Tisha\", end=' ')"
   ]
  },
  {
   "cell_type": "markdown",
   "id": "4fa10318",
   "metadata": {},
   "source": [
    "### We can even use escape characters"
   ]
  },
  {
   "cell_type": "code",
   "execution_count": 8,
   "id": "16283f03",
   "metadata": {},
   "outputs": [
    {
     "name": "stdout",
     "output_type": "stream",
     "text": [
      "\"Hello World\"\n"
     ]
    }
   ],
   "source": [
    "print('\"Hello World\"')"
   ]
  },
  {
   "cell_type": "markdown",
   "id": "50a62bf5",
   "metadata": {},
   "source": [
    "### Printing something in a line repeatedly"
   ]
  },
  {
   "cell_type": "code",
   "execution_count": 9,
   "id": "b5aadf46",
   "metadata": {},
   "outputs": [
    {
     "name": "stdout",
     "output_type": "stream",
     "text": [
      "(-_-)(-_-)(-_-)(-_-)(-_-)(-_-)(-_-)(-_-)(-_-)(-_-)(-_-)(-_-)(-_-)(-_-)(-_-)(-_-)(-_-)(-_-)(-_-)(-_-)\n"
     ]
    }
   ],
   "source": [
    "print('(-_-)'*20)"
   ]
  }
 ],
 "metadata": {
  "kernelspec": {
   "display_name": "Python 3 (ipykernel)",
   "language": "python",
   "name": "python3"
  },
  "language_info": {
   "codemirror_mode": {
    "name": "ipython",
    "version": 3
   },
   "file_extension": ".py",
   "mimetype": "text/x-python",
   "name": "python",
   "nbconvert_exporter": "python",
   "pygments_lexer": "ipython3",
   "version": "3.9.13"
  }
 },
 "nbformat": 4,
 "nbformat_minor": 5
}
