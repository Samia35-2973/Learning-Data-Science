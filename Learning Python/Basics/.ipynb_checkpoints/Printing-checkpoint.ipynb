{
 "cells": [
  {
   "cell_type": "markdown",
   "id": "3be51922",
   "metadata": {},
   "source": [
    "# Ways of Output"
   ]
  },
  {
   "cell_type": "markdown",
   "id": "5ca46b37",
   "metadata": {},
   "source": [
    "### Printing according to the output\n",
    "\n",
    "**Output:**\n",
    "\n",
    "Samia\n",
    "        Haque\n",
    "                Tisha"
   ]
  },
  {
   "cell_type": "code",
   "execution_count": 3,
   "id": "d8883c68",
   "metadata": {},
   "outputs": [
    {
     "name": "stdout",
     "output_type": "stream",
     "text": [
      "Samia\n",
      "\tHaque\n",
      "\t\tTisha\n"
     ]
    }
   ],
   "source": [
    "print(\"Samia\\n\\tHaque\\n\\t\\tTisha\")"
   ]
  },
  {
   "cell_type": "markdown",
   "id": "fa1a8a88",
   "metadata": {},
   "source": [
    "### Prints a single line\n",
    "\n",
    "print() function can print a sentence. Then the cursor goes to the new line"
   ]
  },
  {
   "cell_type": "code",
   "execution_count": 6,
   "id": "ecb14b39",
   "metadata": {},
   "outputs": [
    {
     "name": "stdout",
     "output_type": "stream",
     "text": [
      "Samia\n",
      "Tisha\n"
     ]
    }
   ],
   "source": [
    "print(\"Samia\")\n",
    "print(\"Tisha\")"
   ]
  },
  {
   "cell_type": "markdown",
   "id": "218daaeb",
   "metadata": {},
   "source": [
    "### Avoiding going to newline\n",
    "\n",
    "If we do not want the the cursor to go on next line, Use parameter end=' ' to the print statement. The cursor will stay there.\n",
    "\n",
    "It tells Python to use a space character as the ending character instead of a newline character. \n",
    "print(\"Tisha says: \" + end=' ') cant be used because of concatenation"
   ]
  },
  {
   "cell_type": "code",
   "execution_count": 7,
   "id": "4f7452bd",
   "metadata": {},
   "outputs": [
    {
     "name": "stdout",
     "output_type": "stream",
     "text": [
      "Samia Haque Tisha "
     ]
    }
   ],
   "source": [
    "print(\"Samia\", end=' ')\n",
    "print(\"Haque\", end=' ')\n",
    "print(\"Tisha\", end=' ')"
   ]
  },
  {
   "cell_type": "markdown",
   "id": "4fa10318",
   "metadata": {},
   "source": [
    "### We can even use escape characters"
   ]
  },
  {
   "cell_type": "code",
   "execution_count": 8,
   "id": "16283f03",
   "metadata": {},
   "outputs": [
    {
     "name": "stdout",
     "output_type": "stream",
     "text": [
      "\"Hello World\"\n"
     ]
    }
   ],
   "source": [
    "print('\"Hello World\"')"
   ]
  },
  {
   "cell_type": "markdown",
   "id": "50a62bf5",
   "metadata": {},
   "source": [
    "### Printing something in a line repeatedly"
   ]
  },
  {
   "cell_type": "code",
   "execution_count": 9,
   "id": "b5aadf46",
   "metadata": {},
   "outputs": [
    {
     "name": "stdout",
     "output_type": "stream",
     "text": [
      "(-_-)(-_-)(-_-)(-_-)(-_-)(-_-)(-_-)(-_-)(-_-)(-_-)(-_-)(-_-)(-_-)(-_-)(-_-)(-_-)(-_-)(-_-)(-_-)(-_-)\n"
     ]
    }
   ],
   "source": [
    "print('(-_-)'*20)"
   ]
  },
  {
   "cell_type": "markdown",
   "id": "e6841578",
   "metadata": {},
   "source": [
    "### Multple statements\n",
    "\n",
    "- Concatenating with '+'\n",
    "- use ',': It will print with space in between"
   ]
  },
  {
   "cell_type": "code",
   "execution_count": 4,
   "id": "89f09629",
   "metadata": {},
   "outputs": [
    {
     "name": "stdout",
     "output_type": "stream",
     "text": [
      "My Name isTisha\n",
      "My Age is 22\n"
     ]
    }
   ],
   "source": [
    "name = \"Tisha\"\n",
    "age = 22\n",
    "print(\"My Name is \" + name)\n",
    "print(\"My Age is\", age)"
   ]
  },
  {
   "cell_type": "markdown",
   "id": "85bc73cb",
   "metadata": {},
   "source": [
    "**Note**\n",
    "\n",
    "We Cannot concatenate(+) for age statement because age is an integer. Need to convert type to concatenate\n",
    "\n",
    "\n",
    "### Formatted string literals\n",
    "\n",
    "To use f-strings correctly, you should prefix the string with an 'f' character, and then you can enclose expressions in curly braces {} within the string. The expressions inside the curly braces will be evaluated and their values will be inserted into the string."
   ]
  },
  {
   "cell_type": "code",
   "execution_count": 5,
   "id": "c200079d",
   "metadata": {},
   "outputs": [
    {
     "name": "stdout",
     "output_type": "stream",
     "text": [
      "My name is Tisha and my age is 22\n"
     ]
    }
   ],
   "source": [
    "print(f\"My name is {name} and my age is {age}\")"
   ]
  }
 ],
 "metadata": {
  "kernelspec": {
   "display_name": "Python 3 (ipykernel)",
   "language": "python",
   "name": "python3"
  },
  "language_info": {
   "codemirror_mode": {
    "name": "ipython",
    "version": 3
   },
   "file_extension": ".py",
   "mimetype": "text/x-python",
   "name": "python",
   "nbconvert_exporter": "python",
   "pygments_lexer": "ipython3",
   "version": "3.9.13"
  }
 },
 "nbformat": 4,
 "nbformat_minor": 5
}
