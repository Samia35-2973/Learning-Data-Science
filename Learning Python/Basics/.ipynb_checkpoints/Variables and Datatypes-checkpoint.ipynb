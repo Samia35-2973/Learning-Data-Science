{
 "cells": [
  {
   "cell_type": "markdown",
   "id": "581d8dbd",
   "metadata": {},
   "source": [
    "# Variables and Datatypes"
   ]
  },
  {
   "cell_type": "markdown",
   "id": "2983f662",
   "metadata": {},
   "source": [
    "### Variables\n",
    "\n",
    "Variables can be just declared normally. The name should follow the standards. We must initialize or input during declaration. Without initialization it will give error."
   ]
  },
  {
   "cell_type": "code",
   "execution_count": 4,
   "id": "7d141638",
   "metadata": {},
   "outputs": [
    {
     "name": "stdout",
     "output_type": "stream",
     "text": [
      "5\n"
     ]
    }
   ],
   "source": [
    "a = 5\n",
    "print(a)"
   ]
  },
  {
   "cell_type": "markdown",
   "id": "8bdfe14f",
   "metadata": {},
   "source": [
    "### Types\n",
    "\n",
    "We can assign different types of values. Such as double, string, int, long long etc."
   ]
  },
  {
   "cell_type": "code",
   "execution_count": 2,
   "id": "8460cc53",
   "metadata": {},
   "outputs": [
    {
     "name": "stdout",
     "output_type": "stream",
     "text": [
      "10.24\n",
      "C\n",
      "Tisha\n"
     ]
    }
   ],
   "source": [
    "a = 10.24\n",
    "print(a)\n",
    "a = 'C'\n",
    "print(a)\n",
    "a = 'Tisha'\n",
    "print(a)"
   ]
  },
  {
   "cell_type": "markdown",
   "id": "b7ad145c",
   "metadata": {},
   "source": [
    "### Getting Types\n",
    "\n",
    "type() takes the data as a parameter and returns the type of the data"
   ]
  },
  {
   "cell_type": "code",
   "execution_count": 3,
   "id": "b6b42f3e",
   "metadata": {},
   "outputs": [
    {
     "name": "stdout",
     "output_type": "stream",
     "text": [
      "<class 'str'>\n",
      "<class 'str'>\n"
     ]
    }
   ],
   "source": [
    "print(type(a))\n",
    "print(type('C'))"
   ]
  }
 ],
 "metadata": {
  "kernelspec": {
   "display_name": "Python 3 (ipykernel)",
   "language": "python",
   "name": "python3"
  },
  "language_info": {
   "codemirror_mode": {
    "name": "ipython",
    "version": 3
   },
   "file_extension": ".py",
   "mimetype": "text/x-python",
   "name": "python",
   "nbconvert_exporter": "python",
   "pygments_lexer": "ipython3",
   "version": "3.9.13"
  }
 },
 "nbformat": 4,
 "nbformat_minor": 5
}
