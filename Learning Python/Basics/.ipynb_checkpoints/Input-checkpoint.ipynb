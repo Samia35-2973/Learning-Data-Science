{
 "cells": [
  {
   "cell_type": "markdown",
   "id": "b686f4bd",
   "metadata": {},
   "source": [
    "# Input\n",
    "\n",
    "### Just taking a value as a input"
   ]
  },
  {
   "cell_type": "code",
   "execution_count": 1,
   "id": "f720bb36",
   "metadata": {},
   "outputs": [
    {
     "name": "stdout",
     "output_type": "stream",
     "text": [
      "3.4\n",
      "3.4\n"
     ]
    }
   ],
   "source": [
    "a = input()\n",
    "print(a)"
   ]
  },
  {
   "cell_type": "markdown",
   "id": "a4f82830",
   "metadata": {},
   "source": [
    "### Taking input with a question"
   ]
  },
  {
   "cell_type": "code",
   "execution_count": 2,
   "id": "de0a4b11",
   "metadata": {},
   "outputs": [
    {
     "name": "stdout",
     "output_type": "stream",
     "text": [
      "Enter a Value:345\n",
      "The Value is: 345\n"
     ]
    }
   ],
   "source": [
    "a = input(\"Enter a Value:\")\n",
    "print(\"The Value is:\", a)"
   ]
  },
  {
   "cell_type": "markdown",
   "id": "b1347938",
   "metadata": {},
   "source": [
    "### Checking the type of the value inputted"
   ]
  },
  {
   "cell_type": "code",
   "execution_count": 3,
   "id": "ce37ffbe",
   "metadata": {},
   "outputs": [
    {
     "name": "stdout",
     "output_type": "stream",
     "text": [
      "67.89\n",
      "<class 'str'>\n"
     ]
    }
   ],
   "source": [
    "print(type(input()))"
   ]
  },
  {
   "cell_type": "markdown",
   "id": "f610208d",
   "metadata": {},
   "source": [
    "#### Input is always string no matter what value is given\n",
    "Hence converting the type is necessary during input"
   ]
  }
 ],
 "metadata": {
  "kernelspec": {
   "display_name": "Python 3 (ipykernel)",
   "language": "python",
   "name": "python3"
  },
  "language_info": {
   "codemirror_mode": {
    "name": "ipython",
    "version": 3
   },
   "file_extension": ".py",
   "mimetype": "text/x-python",
   "name": "python",
   "nbconvert_exporter": "python",
   "pygments_lexer": "ipython3",
   "version": "3.9.13"
  }
 },
 "nbformat": 4,
 "nbformat_minor": 5
}
