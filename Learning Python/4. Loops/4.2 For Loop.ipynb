{
 "cells": [
  {
   "cell_type": "markdown",
   "id": "c2ae76b2",
   "metadata": {},
   "source": [
    "# For Loop\n",
    "### For - Each loop\n",
    "the equivalent of a \"for-each\" loop is the for loop. The for loop is used to iterate over a sequence, such as a list, tuple, string, or any other iterable object. It doesn't require any index\n",
    "**Structure:**\n",
    "```hash\n",
    "    for element in iterable:\n",
    "        # Code to be executed for each element\n",
    "```"
   ]
  },
  {
   "cell_type": "markdown",
   "id": "867f34e4",
   "metadata": {},
   "source": [
    "#### For Loop with a List\n",
    "For every element in list we can iterate"
   ]
  },
  {
   "cell_type": "code",
   "execution_count": 1,
   "id": "8b64c73d",
   "metadata": {},
   "outputs": [
    {
     "name": "stdout",
     "output_type": "stream",
     "text": [
      "apple\n",
      "banana\n",
      "orange\n"
     ]
    }
   ],
   "source": [
    "fruits = [\"apple\", \"banana\", \"orange\"]\n",
    "\n",
    "for fruit in fruits:\n",
    "    print(fruit)"
   ]
  },
  {
   "cell_type": "markdown",
   "id": "0687bc12",
   "metadata": {},
   "source": [
    "#### For Loop with a String\n",
    "For every character in the string we can iterate"
   ]
  },
  {
   "cell_type": "code",
   "execution_count": 2,
   "id": "c105218f",
   "metadata": {},
   "outputs": [
    {
     "name": "stdout",
     "output_type": "stream",
     "text": [
      "H\n",
      "e\n",
      "l\n",
      "l\n",
      "o\n",
      ",\n",
      " \n",
      "w\n",
      "o\n",
      "r\n",
      "l\n",
      "d\n",
      "!\n"
     ]
    }
   ],
   "source": [
    "message = \"Hello, world!\"\n",
    "\n",
    "for char in message:\n",
    "    print(char)"
   ]
  },
  {
   "cell_type": "markdown",
   "id": "8f0ba216",
   "metadata": {},
   "source": [
    "### Break and continue\n",
    "We can use break and continue like while loops"
   ]
  },
  {
   "cell_type": "code",
   "execution_count": 3,
   "id": "71a00e34",
   "metadata": {},
   "outputs": [
    {
     "name": "stdout",
     "output_type": "stream",
     "text": [
      "H\n",
      "e\n",
      "l\n",
      "l\n",
      "o\n",
      ",\n",
      "w\n",
      "o\n",
      "r\n",
      "l\n",
      "d\n"
     ]
    }
   ],
   "source": [
    "message = \"Hello, world!\"\n",
    "\n",
    "for char in message:\n",
    "    if char == '!': break\n",
    "    if char == ' ': continue\n",
    "    print(char)"
   ]
  },
  {
   "cell_type": "markdown",
   "id": "3a5f121d",
   "metadata": {},
   "source": [
    "### Range(end)\n",
    "The range() function returns a sequence of numbers, starting from 0 by default, and increments by 1 (by default), and ends at a specified number."
   ]
  },
  {
   "cell_type": "code",
   "execution_count": 4,
   "id": "90394aae",
   "metadata": {},
   "outputs": [
    {
     "name": "stdout",
     "output_type": "stream",
     "text": [
      "0\n",
      "1\n",
      "2\n",
      "3\n",
      "4\n",
      "5\n"
     ]
    }
   ],
   "source": [
    "for x in range(6):\n",
    "  print(x)"
   ]
  },
  {
   "cell_type": "markdown",
   "id": "fce134d7",
   "metadata": {},
   "source": [
    "### Range(i, end)\n",
    "it is possible to specify the starting value by adding a parameter"
   ]
  },
  {
   "cell_type": "code",
   "execution_count": 5,
   "id": "a9bd6714",
   "metadata": {},
   "outputs": [
    {
     "name": "stdout",
     "output_type": "stream",
     "text": [
      "2\n",
      "3\n",
      "4\n",
      "5\n"
     ]
    }
   ],
   "source": [
    "for x in range(2, 6):\n",
    "  print(x)"
   ]
  },
  {
   "cell_type": "markdown",
   "id": "cd5530b2",
   "metadata": {},
   "source": [
    "### Range(i, end, incremental_value)\n",
    "it is possible to specify the increment value by adding a third parameter"
   ]
  },
  {
   "cell_type": "code",
   "execution_count": 6,
   "id": "be0bdf07",
   "metadata": {},
   "outputs": [
    {
     "name": "stdout",
     "output_type": "stream",
     "text": [
      "2\n",
      "5\n",
      "8\n",
      "11\n",
      "14\n",
      "17\n",
      "20\n",
      "23\n",
      "26\n",
      "29\n"
     ]
    }
   ],
   "source": [
    "for x in range(2, 30, 3):\n",
    "  print(x)"
   ]
  },
  {
   "cell_type": "markdown",
   "id": "8f955d68",
   "metadata": {},
   "source": [
    "### Decrementing value\n",
    "Just specify the incremental value as negative. It will work as decremental"
   ]
  },
  {
   "cell_type": "code",
   "execution_count": 7,
   "id": "6080da9c",
   "metadata": {},
   "outputs": [
    {
     "name": "stdout",
     "output_type": "stream",
     "text": [
      "6\n",
      "5\n",
      "4\n",
      "3\n",
      "2\n",
      "1\n"
     ]
    }
   ],
   "source": [
    "for x in range(6, 0, -1):\n",
    "  print(x)"
   ]
  },
  {
   "cell_type": "markdown",
   "id": "9f77766e",
   "metadata": {},
   "source": [
    "### Nested For loop\n",
    "it works same as while"
   ]
  },
  {
   "cell_type": "code",
   "execution_count": 8,
   "id": "55e894eb",
   "metadata": {},
   "outputs": [
    {
     "name": "stdout",
     "output_type": "stream",
     "text": [
      "0 0\n",
      "0 1\n",
      "0 2\n",
      "0 3\n",
      "0 4\n",
      "1 0\n",
      "1 1\n",
      "1 2\n",
      "1 3\n",
      "1 4\n",
      "2 0\n",
      "2 1\n",
      "2 2\n",
      "2 3\n",
      "2 4\n",
      "3 0\n",
      "3 1\n",
      "3 2\n",
      "3 3\n",
      "3 4\n",
      "4 0\n",
      "4 1\n",
      "4 2\n",
      "4 3\n",
      "4 4\n"
     ]
    }
   ],
   "source": [
    "for i in range(5):\n",
    "    for j in range(5):\n",
    "        print(i, j)"
   ]
  },
  {
   "cell_type": "markdown",
   "id": "b59263bf",
   "metadata": {},
   "source": [
    "### Else Keyword\n",
    "Same as while loop"
   ]
  },
  {
   "cell_type": "code",
   "execution_count": 9,
   "id": "f747c740",
   "metadata": {},
   "outputs": [
    {
     "name": "stdout",
     "output_type": "stream",
     "text": [
      "0\n",
      "1\n",
      "2\n",
      "3\n",
      "4\n",
      "5\n",
      "Finally finished!\n"
     ]
    }
   ],
   "source": [
    "for x in range(6):\n",
    "  print(x)\n",
    "else:\n",
    "  print(\"Finally finished!\")"
   ]
  },
  {
   "cell_type": "markdown",
   "id": "c538eca0",
   "metadata": {},
   "source": [
    "### Break before else in for loop\n",
    "The else won't execute"
   ]
  },
  {
   "cell_type": "code",
   "execution_count": 10,
   "id": "10f74d20",
   "metadata": {},
   "outputs": [
    {
     "name": "stdout",
     "output_type": "stream",
     "text": [
      "0\n",
      "1\n",
      "2\n"
     ]
    }
   ],
   "source": [
    "for x in range(6):\n",
    "  if x == 3: break\n",
    "  print(x)\n",
    "else:\n",
    "  print(\"Finally finished!\")"
   ]
  },
  {
   "cell_type": "markdown",
   "id": "8c232f80",
   "metadata": {},
   "source": [
    "### Pass statement\n",
    "for loops cannot be empty, but if you for some reason have a for loop with no content, put in the pass statement to avoid getting an error."
   ]
  },
  {
   "cell_type": "code",
   "execution_count": null,
   "id": "25d9e2c5",
   "metadata": {},
   "outputs": [],
   "source": [
    "for x in [0, 1, 2]:\n",
    "  pass"
   ]
  }
 ],
 "metadata": {
  "kernelspec": {
   "display_name": "Python 3 (ipykernel)",
   "language": "python",
   "name": "python3"
  },
  "language_info": {
   "codemirror_mode": {
    "name": "ipython",
    "version": 3
   },
   "file_extension": ".py",
   "mimetype": "text/x-python",
   "name": "python",
   "nbconvert_exporter": "python",
   "pygments_lexer": "ipython3",
   "version": "3.9.13"
  }
 },
 "nbformat": 4,
 "nbformat_minor": 5
}
