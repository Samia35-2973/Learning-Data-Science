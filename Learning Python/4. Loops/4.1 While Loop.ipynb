{
 "cells": [
  {
   "cell_type": "markdown",
   "id": "b9d8d18a",
   "metadata": {},
   "source": [
    "# While Loop\n",
    "### How while Works\n",
    "- it takes a condition\n",
    "- as long as the condition is true\n",
    "- it keeps repeating the inner work"
   ]
  },
  {
   "cell_type": "code",
   "execution_count": 2,
   "id": "91d3a768",
   "metadata": {},
   "outputs": [
    {
     "name": "stdout",
     "output_type": "stream",
     "text": [
      "4\n",
      "3\n",
      "2\n",
      "1\n"
     ]
    }
   ],
   "source": [
    "x = 4\n",
    "while x > 0:\n",
    "    print(x)\n",
    "    x-=1"
   ]
  },
  {
   "cell_type": "markdown",
   "id": "c5f5c327",
   "metadata": {},
   "source": [
    "### Avoid infinite loop\n",
    "Based on the condition we must work accordingly to avoid infinite loop"
   ]
  },
  {
   "cell_type": "code",
   "execution_count": 1,
   "id": "3cdad3b7",
   "metadata": {},
   "outputs": [
    {
     "ename": "SyntaxError",
     "evalue": "invalid syntax (1783586353.py, line 4)",
     "output_type": "error",
     "traceback": [
      "\u001b[0;36m  File \u001b[0;32m\"/tmp/ipykernel_4937/1783586353.py\"\u001b[0;36m, line \u001b[0;32m4\u001b[0m\n\u001b[0;31m    x--\u001b[0m\n\u001b[0m       ^\u001b[0m\n\u001b[0;31mSyntaxError\u001b[0m\u001b[0;31m:\u001b[0m invalid syntax\n"
     ]
    }
   ],
   "source": [
    "x = 4\n",
    "while x > 0:\n",
    "    print(x)"
   ]
  },
  {
   "cell_type": "markdown",
   "id": "5766271b",
   "metadata": {},
   "source": [
    "### Break statement\n",
    "With the break statement we can stop the loop even if the while condition is true"
   ]
  },
  {
   "cell_type": "code",
   "execution_count": 2,
   "id": "e4c82f7e",
   "metadata": {},
   "outputs": [
    {
     "name": "stdout",
     "output_type": "stream",
     "text": [
      "1\n",
      "2\n",
      "3\n"
     ]
    }
   ],
   "source": [
    "i = 1\n",
    "while i < 6:\n",
    "  print(i)\n",
    "  if i == 3:\n",
    "    break\n",
    "  i += 1"
   ]
  },
  {
   "cell_type": "markdown",
   "id": "bcf3c471",
   "metadata": {},
   "source": [
    "### Continue Statement\n",
    "With the continue statement we can stop the current iteration, and continue with the next:"
   ]
  },
  {
   "cell_type": "code",
   "execution_count": 3,
   "id": "03d7f053",
   "metadata": {},
   "outputs": [
    {
     "name": "stdout",
     "output_type": "stream",
     "text": [
      "1\n",
      "2\n",
      "4\n",
      "5\n",
      "6\n"
     ]
    }
   ],
   "source": [
    "i = 0\n",
    "while i < 6:\n",
    "  i += 1\n",
    "  if i == 3:\n",
    "    continue\n",
    "  print(i)"
   ]
  },
  {
   "cell_type": "markdown",
   "id": "f8883ed3",
   "metadata": {},
   "source": [
    "### The else statement\n",
    "With the else statement we can run a block of code once when the condition no longer is true"
   ]
  },
  {
   "cell_type": "code",
   "execution_count": 4,
   "id": "de91ca35",
   "metadata": {},
   "outputs": [
    {
     "name": "stdout",
     "output_type": "stream",
     "text": [
      "1\n",
      "2\n",
      "3\n",
      "4\n",
      "5\n",
      "i is no longer less than 6\n"
     ]
    }
   ],
   "source": [
    "i = 1\n",
    "while i < 6:\n",
    "  print(i)\n",
    "  i += 1\n",
    "else:\n",
    "  print(\"i is no longer less than 6\")"
   ]
  },
  {
   "cell_type": "markdown",
   "id": "aa630d44",
   "metadata": {},
   "source": [
    "### Nested While Loop\n",
    "We can use while loops under any loop"
   ]
  },
  {
   "cell_type": "code",
   "execution_count": 4,
   "id": "61addd78",
   "metadata": {},
   "outputs": [
    {
     "name": "stdout",
     "output_type": "stream",
     "text": [
      "2 2\n",
      "2 1\n",
      "1 2\n",
      "1 1\n"
     ]
    }
   ],
   "source": [
    "x = 2\n",
    "while x > 0:\n",
    "    y = 2\n",
    "    while y > 0:\n",
    "        print(x, y)\n",
    "        y -= 1\n",
    "    x -= 1"
   ]
  }
 ],
 "metadata": {
  "kernelspec": {
   "display_name": "Python 3 (ipykernel)",
   "language": "python",
   "name": "python3"
  },
  "language_info": {
   "codemirror_mode": {
    "name": "ipython",
    "version": 3
   },
   "file_extension": ".py",
   "mimetype": "text/x-python",
   "name": "python",
   "nbconvert_exporter": "python",
   "pygments_lexer": "ipython3",
   "version": "3.9.13"
  }
 },
 "nbformat": 4,
 "nbformat_minor": 5
}
