{
 "cells": [
  {
   "cell_type": "markdown",
   "id": "87ea5af0",
   "metadata": {},
   "source": [
    "# Outputs\n",
    "\n",
    "### Printing Something\n",
    "\n",
    "you can output code in R without using a print function. Use quotes for string."
   ]
  },
  {
   "cell_type": "code",
   "execution_count": 1,
   "id": "09b9adac",
   "metadata": {},
   "outputs": [
    {
     "data": {
      "text/html": [
       "34"
      ],
      "text/latex": [
       "34"
      ],
      "text/markdown": [
       "34"
      ],
      "text/plain": [
       "[1] 34"
      ]
     },
     "metadata": {},
     "output_type": "display_data"
    },
    {
     "data": {
      "text/html": [
       "344"
      ],
      "text/latex": [
       "344"
      ],
      "text/markdown": [
       "344"
      ],
      "text/plain": [
       "[1] 344"
      ]
     },
     "metadata": {},
     "output_type": "display_data"
    },
    {
     "data": {
      "text/html": [
       "'Hello I am Tisha'"
      ],
      "text/latex": [
       "'Hello I am Tisha'"
      ],
      "text/markdown": [
       "'Hello I am Tisha'"
      ],
      "text/plain": [
       "[1] \"Hello I am Tisha\""
      ]
     },
     "metadata": {},
     "output_type": "display_data"
    }
   ],
   "source": [
    "34\n",
    "344\n",
    "\"Hello I am Tisha\""
   ]
  },
  {
   "cell_type": "markdown",
   "id": "520dca09",
   "metadata": {},
   "source": [
    "### print()\n",
    "\n",
    "We can use print() if we want. However, when your code is inside an R expression (e.g. inside curly braces {} like in the example above), use the print() function to output the result."
   ]
  },
  {
   "cell_type": "code",
   "execution_count": 2,
   "id": "f89dd240",
   "metadata": {},
   "outputs": [
    {
     "name": "stdout",
     "output_type": "stream",
     "text": [
      "[1] \"I am learning R.\"\n"
     ]
    }
   ],
   "source": [
    "print(\"I am learning R.\")"
   ]
  },
  {
   "cell_type": "markdown",
   "id": "bd1332cc",
   "metadata": {},
   "source": [
    "### Avoiding going to the newline\n",
    "using the cat() function with the appendLF argument set to FALSE. This allows you to concatenate multiple items without inserting a newline character at the end. "
   ]
  },
  {
   "cell_type": "code",
   "execution_count": 3,
   "id": "c1de58a1",
   "metadata": {},
   "outputs": [
    {
     "name": "stdout",
     "output_type": "stream",
     "text": [
      "This is some text FALSEThis will be on the same line"
     ]
    }
   ],
   "source": [
    "cat(\"This is some text\", appendLF = FALSE)\n",
    "cat(\"This will be on the same line\")"
   ]
  },
  {
   "cell_type": "markdown",
   "id": "123d8e20",
   "metadata": {},
   "source": [
    "### Escape Character\n"
   ]
  },
  {
   "cell_type": "code",
   "execution_count": 6,
   "id": "0142ddf9",
   "metadata": {},
   "outputs": [
    {
     "name": "stdout",
     "output_type": "stream",
     "text": [
      "[1] \"Samia\\n\\tHaque\\n\\t\\tTisha\"\n"
     ]
    }
   ],
   "source": []
  },
  {
   "cell_type": "code",
   "execution_count": null,
   "id": "396e3dbf",
   "metadata": {},
   "outputs": [],
   "source": []
  }
 ],
 "metadata": {
  "kernelspec": {
   "display_name": "R",
   "language": "R",
   "name": "ir"
  },
  "language_info": {
   "codemirror_mode": "r",
   "file_extension": ".r",
   "mimetype": "text/x-r-source",
   "name": "R",
   "pygments_lexer": "r",
   "version": "4.1.2"
  }
 },
 "nbformat": 4,
 "nbformat_minor": 5
}
